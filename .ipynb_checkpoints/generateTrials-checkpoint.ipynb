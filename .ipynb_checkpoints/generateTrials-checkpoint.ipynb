{
 "cells": [
  {
   "cell_type": "code",
   "execution_count": 14,
   "metadata": {
    "collapsed": false,
    "hide_input": false
   },
   "outputs": [],
   "source": [
    "import pandas as pd\n",
    "from numpy.random import RandomState\n",
    "from itertools import product\n",
    "\n",
    "######## FUNCTIONS\n",
    "#----------------------\n",
    "def simple_shuffle(frame, block=None, times=10, seed=None, resetInd=False):\n",
    "    prng = RandomState(seed)\n",
    "    \n",
    "    def _shuffle(chunk):\n",
    "        for _ in range(times):\n",
    "            chunk = chunk.reindex(prng.permutation(chunk.index))\n",
    "        if resetInd is True:\n",
    "            chunk=chunk.reset_index(drop=True)\n",
    "        return chunk\n",
    "    \n",
    "    if block is None:\n",
    "        return _shuffle(frame)\n",
    "    else:\n",
    "        return frame.groupby(block).apply(_shuffle)\n",
    "    \n",
    "def add_blocks(frame, size, name='block', condList=None, id_col=None, start_at=0):\n",
    "\n",
    "    def _assigner(lim,size):\n",
    "        num = 0\n",
    "        n=0\n",
    "        while n<=lim:\n",
    "            if n % size == 0 and n != 0:\n",
    "                num +=1\n",
    "                n += 1\n",
    "                #print blocks[num],n, num\n",
    "                yield blocks[num]\n",
    "            else:\n",
    "                n +=1\n",
    "                #print blocks[num],n,num\n",
    "                yield blocks[num]\n",
    "\n",
    "    if condList is None:\n",
    "        blocks=range(len(frame)/size)\n",
    "    else:\n",
    "        blocks=condList\n",
    "    \n",
    "    assigner=_assigner(len(frame),size)\n",
    "\n",
    "    def _add(chunk):\n",
    "        chunk[name]=[assigner.next() for _ in xrange(len(chunk))]\n",
    "        return chunk\n",
    "    \n",
    "    if id_col is None:\n",
    "        new_frame=_add(frame).sort_values(by=name)\n",
    "    else:\n",
    "        new_frame=frame.groupby(id_col).apply(_add).sort_values(by=id_col)\n",
    "\n",
    "    if condList is None:\n",
    "        #new_frame[name]=new_frame[name]+start_at\n",
    "        return new_frame\n",
    "    else:\n",
    "        new_frame[name]=new_frame[name]\n",
    "        return new_frame\n",
    "\n",
    "def genTr(frame,firstBlockSize, secondBlockSize, firstBlockName, secondBlockName,seedOfShuffle=None):\n",
    "    #df=simple_shuffle(df)\n",
    "    rel=add_blocks(frame,firstBlockSize,name=firstBlockName,condList=['related','unrelated'])\n",
    "    speak=add_blocks(rel,secondBlockSize,name=secondBlockName,condList=['native','nonNative','native','nonNative'])\n",
    "    speak.sort_values(by=firstBlockName)\n",
    "    \n",
    "    return speak\n",
    "\n",
    "######## IMPLEMENTATIONS\n",
    "#-------------------------   \n",
    "\n",
    "df=pd.DataFrame({'sentID':xrange(1,121)})\n",
    "rel=add_blocks(df,60,name='firstBlockName',condList=['related','unrelated'])\n",
    "speak=add_blocks(df,30,name='secondBlockName',condList=['native','nonnative','native','nonnative'])\n",
    "speak=speak.sort_values(by=\"firstBlockName\")\n",
    "final=simple_shuffle(speak)\n",
    "final.to_csv('testGen.csv',index=False)"
   ]
  },
  {
   "cell_type": "code",
   "execution_count": 36,
   "metadata": {
    "collapsed": false
   },
   "outputs": [],
   "source": [
    "trialGen\n",
    "trialGen.to_csv('testTrialList.csv',index=False)"
   ]
  },
  {
   "cell_type": "code",
   "execution_count": 63,
   "metadata": {
    "collapsed": false
   },
   "outputs": [
    {
     "data": {
      "text/plain": [
       "59"
      ]
     },
     "execution_count": 63,
     "metadata": {},
     "output_type": "execute_result"
    }
   ],
   "source": [
    "test=add_block(sentTypes,60,name='block',start_at=1,seed=2)\n",
    "test=test.groupby('block')\n",
    "len(test.get_group(1))"
   ]
  },
  {
   "cell_type": "code",
   "execution_count": 1,
   "metadata": {
    "collapsed": false
   },
   "outputs": [
    {
     "ename": "NameError",
     "evalue": "name 'sentTypes' is not defined",
     "output_type": "error",
     "traceback": [
      "\u001b[0;31m---------------------------------------------------------------------------\u001b[0m",
      "\u001b[0;31mNameError\u001b[0m                                 Traceback (most recent call last)",
      "\u001b[0;32m<ipython-input-1-5b65d93865bc>\u001b[0m in \u001b[0;36m<module>\u001b[0;34m()\u001b[0m\n\u001b[0;32m----> 1\u001b[0;31m \u001b[0mblocks\u001b[0m \u001b[0;34m=\u001b[0m \u001b[0mrange\u001b[0m\u001b[0;34m(\u001b[0m\u001b[0mlen\u001b[0m\u001b[0;34m(\u001b[0m\u001b[0msentTypes\u001b[0m\u001b[0;34m)\u001b[0m\u001b[0;34m/\u001b[0m\u001b[0;36m60\u001b[0m\u001b[0;34m)\u001b[0m\u001b[0;34m\u001b[0m\u001b[0m\n\u001b[0m\u001b[1;32m      2\u001b[0m \u001b[0;36m60\u001b[0m\u001b[0;34m%\u001b[0m\u001b[0;36m60\u001b[0m\u001b[0;34m\u001b[0m\u001b[0m\n",
      "\u001b[0;31mNameError\u001b[0m: name 'sentTypes' is not defined"
     ]
    }
   ],
   "source": [
    "blocks = range(len(sentTypes)/60)\n",
    "60%60"
   ]
  },
  {
   "cell_type": "code",
   "execution_count": 6,
   "metadata": {
    "collapsed": false
   },
   "outputs": [
    {
     "data": {
      "text/plain": [
       "0"
      ]
     },
     "execution_count": 6,
     "metadata": {},
     "output_type": "execute_result"
    }
   ],
   "source": [
    "120%60"
   ]
  }
 ],
 "metadata": {
  "hide_input": false,
  "kernelspec": {
   "display_name": "Python 2",
   "language": "python",
   "name": "python2"
  },
  "language_info": {
   "codemirror_mode": {
    "name": "ipython",
    "version": 2
   },
   "file_extension": ".py",
   "mimetype": "text/x-python",
   "name": "python",
   "nbconvert_exporter": "python",
   "pygments_lexer": "ipython2",
   "version": "2.7.6"
  },
  "toc": {
   "toc_cell": false,
   "toc_number_sections": true,
   "toc_threshold": 4,
   "toc_window_display": false
  }
 },
 "nbformat": 4,
 "nbformat_minor": 0
}
