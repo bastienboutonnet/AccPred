{
 "cells": [
  {
   "cell_type": "code",
   "execution_count": 35,
   "metadata": {
    "collapsed": false,
    "hide_input": false
   },
   "outputs": [],
   "source": [
    "import pandas as pd\n",
    "from numpy.random import RandomState\n",
    "from itertools import product\n",
    "\n",
    "######## FUNCTIONS\n",
    "#----------------------\n",
    "def simple_shuffle(frame, block=None, times=10, seed=None, resetInd=False):\n",
    "    \"\"\"\n",
    "    Shuffles trials a few times.\n",
    "    \n",
    "    :param pandas.DataFrame frame: Trials to be shuffled.\n",
    "    :param block: Optional column to groupby before shuffling.\n",
    "    :type block: str or None.\n",
    "    :param int times: Number of times to shuffle. Defaults to 10.\n",
    "    :param seed: Seed random number generator.\n",
    "    :type seed: int or None\n",
    "    :returns: Trial list with rows in random order.\n",
    "    :rtype: pandas.DataFrame\n",
    "    \"\"\"\n",
    "    prng = RandomState(seed)\n",
    "    \n",
    "    def _shuffle(chunk):\n",
    "        for _ in range(times):\n",
    "            chunk = chunk.reindex(prng.permutation(chunk.index))\n",
    "        if resetInd is True:\n",
    "            chunk=chunk.reset_index(drop=True)\n",
    "        return chunk\n",
    "    \n",
    "    if block is None:\n",
    "        return _shuffle(frame)\n",
    "    else:\n",
    "        return frame.groupby(block).apply(_shuffle)\n",
    "    \n",
    "def add_block(frame, size, name='block', start_at=0, id_col=None, seed=None):\n",
    "    \"\"\"\n",
    "    Creates a new column for block.\n",
    "    \n",
    "    :param pandas.DataFrame frame: Trials to be assigned blocks.\n",
    "    :param int size: Length of each block.\n",
    "    :param id_col: Column to group by before blocking. Assures that blocks \n",
    "        consist of approximately the same number of trials for each unique\n",
    "        value in id_col\n",
    "    :type id_col: str or None\n",
    "    :param seed: Seed random number generator.\n",
    "    :type seed: int or None\n",
    "    :returns: Trial list with new column for block.\n",
    "    :rtype: pandas.DataFrame\n",
    "    \"\"\"\n",
    "    def _assigner(blocks, prng):\n",
    "        prng.shuffle(blocks)\n",
    "        i = 0\n",
    "        while True:\n",
    "            yield blocks[i]\n",
    "            if (i+1)%len(blocks):\n",
    "                prng.shuffle(blocks)\n",
    "            i = (i+1)%len(blocks)\n",
    "            \n",
    "    prng = RandomState(seed)\n",
    "    blocks = range(len(frame)/size)\n",
    "    assigner = _assigner(blocks, prng)\n",
    "    \n",
    "    def _add(chunk):\n",
    "        chunk[name] = [assigner.next() for _ in xrange(len(chunk))]\n",
    "        return chunk\n",
    "    \n",
    "    if id_col is None:\n",
    "        new_frame = _add(frame).sort_values(by=name)\n",
    "    else:\n",
    "        new_frame = frame.groupby(id_col).apply(_add).sort_values(by=name)\n",
    "    \n",
    "    new_frame[name] = new_frame[name] + start_at\n",
    "    return new_frame\n",
    "\n",
    "def genTr(df,firstBlockSize, secondBlockSize,seedOfShuffle=None):\n",
    "    ## Split halfway, assign expectedness\n",
    "    block4Rel=add_block(df,firstBlockSize,name='block',start_at=0,seed=seedOfShuffle)\n",
    "    relConds=pd.DataFrame({'block':[1,2],'cond':['rel','unrel']})\n",
    "    relAss=pd.merge(block4Rel,relConds,how='left')\n",
    "    relAss=relAss.drop('block',1)\n",
    "\n",
    "    ## Split 4-way within-expectedness, assign speaker\n",
    "    block4Speak=add_block(relAss,secondBlockSize,name='block',id_col='cond',start_at=0,seed=seedOfShuffle)\n",
    "    speakAss=block4Speak.sort_values(by=['block','cond'])\n",
    "    speakConds=pd.DataFrame({'block':[1,2,3,4],'speaker':['nat','nonNat','nat','nonNat']})\n",
    "    speakAss=pd.merge(block4Speak,speakConds,how='left')\n",
    "    speakAss=speakAss.drop('block',1)\n",
    "    \n",
    "    return speakAss\n",
    "\n",
    "######## IMPLEMENTATIONS\n",
    "#-------------------------   \n",
    "\n",
    "sentTypes=pd.read_csv('./mockTrialGen/mockList.csv')\n",
    "trialGen=genTr(sentTypes,firstBlockSize=60,secondBlockSize=30,seedOfShuffle=1)\n",
    "\n"
   ]
  },
  {
   "cell_type": "code",
   "execution_count": 36,
   "metadata": {
    "collapsed": false
   },
   "outputs": [],
   "source": [
    "trialGen\n",
    "trialGen.to_csv('testTrialList.csv',index=False)"
   ]
  },
  {
   "cell_type": "code",
   "execution_count": 63,
   "metadata": {
    "collapsed": false
   },
   "outputs": [
    {
     "data": {
      "text/plain": [
       "59"
      ]
     },
     "execution_count": 63,
     "metadata": {},
     "output_type": "execute_result"
    }
   ],
   "source": [
    "test=add_block(sentTypes,60,name='block',start_at=1,seed=2)\n",
    "test=test.groupby('block')\n",
    "len(test.get_group(1))"
   ]
  },
  {
   "cell_type": "code",
   "execution_count": 1,
   "metadata": {
    "collapsed": false
   },
   "outputs": [
    {
     "ename": "NameError",
     "evalue": "name 'sentTypes' is not defined",
     "output_type": "error",
     "traceback": [
      "\u001b[0;31m---------------------------------------------------------------------------\u001b[0m",
      "\u001b[0;31mNameError\u001b[0m                                 Traceback (most recent call last)",
      "\u001b[0;32m<ipython-input-1-5b65d93865bc>\u001b[0m in \u001b[0;36m<module>\u001b[0;34m()\u001b[0m\n\u001b[0;32m----> 1\u001b[0;31m \u001b[0mblocks\u001b[0m \u001b[0;34m=\u001b[0m \u001b[0mrange\u001b[0m\u001b[0;34m(\u001b[0m\u001b[0mlen\u001b[0m\u001b[0;34m(\u001b[0m\u001b[0msentTypes\u001b[0m\u001b[0;34m)\u001b[0m\u001b[0;34m/\u001b[0m\u001b[0;36m60\u001b[0m\u001b[0;34m)\u001b[0m\u001b[0;34m\u001b[0m\u001b[0m\n\u001b[0m\u001b[1;32m      2\u001b[0m \u001b[0;36m60\u001b[0m\u001b[0;34m%\u001b[0m\u001b[0;36m60\u001b[0m\u001b[0;34m\u001b[0m\u001b[0m\n",
      "\u001b[0;31mNameError\u001b[0m: name 'sentTypes' is not defined"
     ]
    }
   ],
   "source": [
    "blocks = range(len(sentTypes)/60)\n",
    "60%60"
   ]
  },
  {
   "cell_type": "code",
   "execution_count": 6,
   "metadata": {
    "collapsed": false
   },
   "outputs": [
    {
     "data": {
      "text/plain": [
       "0"
      ]
     },
     "execution_count": 6,
     "metadata": {},
     "output_type": "execute_result"
    }
   ],
   "source": [
    "120%60"
   ]
  }
 ],
 "metadata": {
  "hide_input": false,
  "kernelspec": {
   "display_name": "Python 2",
   "language": "python",
   "name": "python2"
  },
  "language_info": {
   "codemirror_mode": {
    "name": "ipython",
    "version": 2
   },
   "file_extension": ".py",
   "mimetype": "text/x-python",
   "name": "python",
   "nbconvert_exporter": "python",
   "pygments_lexer": "ipython2",
   "version": "2.7.6"
  },
  "toc": {
   "toc_cell": false,
   "toc_number_sections": true,
   "toc_threshold": 4,
   "toc_window_display": false
  }
 },
 "nbformat": 4,
 "nbformat_minor": 0
}
