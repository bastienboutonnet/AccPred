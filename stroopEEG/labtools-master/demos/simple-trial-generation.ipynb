{
 "metadata": {
  "celltoolbar": "Raw Cell Format",
  "name": "",
  "signature": "sha256:d7cd43b8674d32e9caaa2a2683823c04543ba64317e6a3e43e6a0863d6f4ad64"
 },
 "nbformat": 3,
 "nbformat_minor": 0,
 "worksheets": [
  {
   "cells": [
    {
     "cell_type": "markdown",
     "metadata": {},
     "source": [
      "# Simple Trial Generation"
     ]
    },
    {
     "cell_type": "markdown",
     "metadata": {},
     "source": [
      "This demo walks through some basics of trial generation using labtools and pandas."
     ]
    },
    {
     "cell_type": "code",
     "collapsed": false,
     "input": [
      "# this demo is located in the demos folder of the labtools project, available on GitHub\n",
      "import sys, os\n",
      "sys.path.insert(0, os.path.abspath('..'))\n",
      "\n",
      "import pandas as pd\n",
      "import numpy as np\n",
      "\n",
      "from labtools.trials_functions import *"
     ],
     "language": "python",
     "metadata": {},
     "outputs": [
      {
       "output_type": "stream",
       "stream": "stderr",
       "text": [
        "/Users/edmiston/Library/Enthought/Canopy_32bit/User/lib/python2.7/site-packages/pandas/io/excel.py:626: UserWarning: Installed openpyxl is not supported at this time. Use >=1.6.1 and <2.0.0.\n",
        "  .format(openpyxl_compat.start_ver, openpyxl_compat.stop_ver))\n"
       ]
      }
     ],
     "prompt_number": 1
    },
    {
     "cell_type": "heading",
     "level": 2,
     "metadata": {},
     "source": [
      "counterbalance"
     ]
    },
    {
     "cell_type": "markdown",
     "metadata": {},
     "source": [
      "One of the basic functions of trial generation is to allow for full counterbalancing. The function `counterbalance` takes a `dict` of variables and produces a `pandas.DataFrame` output."
     ]
    },
    {
     "cell_type": "raw",
     "metadata": {
      "raw_mimetype": "text/restructuredtext"
     },
     "source": [
      ".. autofunction:: labtools.trials_functions.counterbalance\n",
      "    :noindex:"
     ]
    },
    {
     "cell_type": "code",
     "collapsed": false,
     "input": [
      "my_variables = {'version':['a','b','c'], 'response':[1,2], 'session':2}\n",
      "counterbalance(my_variables, order=['version','session','response'])"
     ],
     "language": "python",
     "metadata": {},
     "outputs": [
      {
       "html": [
        "<div style=\"max-height:1000px;max-width:1500px;overflow:auto;\">\n",
        "<table border=\"1\" class=\"dataframe\">\n",
        "  <thead>\n",
        "    <tr style=\"text-align: right;\">\n",
        "      <th></th>\n",
        "      <th>version</th>\n",
        "      <th>session</th>\n",
        "      <th>response</th>\n",
        "    </tr>\n",
        "  </thead>\n",
        "  <tbody>\n",
        "    <tr>\n",
        "      <th>0</th>\n",
        "      <td> a</td>\n",
        "      <td> 2</td>\n",
        "      <td> 1</td>\n",
        "    </tr>\n",
        "    <tr>\n",
        "      <th>1</th>\n",
        "      <td> a</td>\n",
        "      <td> 2</td>\n",
        "      <td> 2</td>\n",
        "    </tr>\n",
        "    <tr>\n",
        "      <th>2</th>\n",
        "      <td> b</td>\n",
        "      <td> 2</td>\n",
        "      <td> 1</td>\n",
        "    </tr>\n",
        "    <tr>\n",
        "      <th>3</th>\n",
        "      <td> b</td>\n",
        "      <td> 2</td>\n",
        "      <td> 2</td>\n",
        "    </tr>\n",
        "    <tr>\n",
        "      <th>4</th>\n",
        "      <td> c</td>\n",
        "      <td> 2</td>\n",
        "      <td> 1</td>\n",
        "    </tr>\n",
        "    <tr>\n",
        "      <th>5</th>\n",
        "      <td> c</td>\n",
        "      <td> 2</td>\n",
        "      <td> 2</td>\n",
        "    </tr>\n",
        "  </tbody>\n",
        "</table>\n",
        "</div>"
       ],
       "output_type": "pyout",
       "prompt_number": 2,
       "text": [
        "  version  session  response\n",
        "0       a        2         1\n",
        "1       a        2         2\n",
        "2       b        2         1\n",
        "3       b        2         2\n",
        "4       c        2         1\n",
        "5       c        2         2"
       ]
      }
     ],
     "prompt_number": 2
    },
    {
     "cell_type": "heading",
     "level": 2,
     "metadata": {},
     "source": [
      "expand"
     ]
    },
    {
     "cell_type": "raw",
     "metadata": {
      "raw_mimetype": "text/restructuredtext"
     },
     "source": [
      ".. autofunction:: labtools.trials_functions.expand\n",
      "    :noindex:"
     ]
    },
    {
     "cell_type": "code",
     "collapsed": false,
     "input": [
      "posner = pd.DataFrame({'target_dir':['left','right']})\n",
      "posner = expand(posner, 'valid_prime', ratio=0.75)\n",
      "posner"
     ],
     "language": "python",
     "metadata": {},
     "outputs": [
      {
       "html": [
        "<div style=\"max-height:1000px;max-width:1500px;overflow:auto;\">\n",
        "<table border=\"1\" class=\"dataframe\">\n",
        "  <thead>\n",
        "    <tr style=\"text-align: right;\">\n",
        "      <th></th>\n",
        "      <th>valid_prime</th>\n",
        "      <th>target_dir</th>\n",
        "    </tr>\n",
        "  </thead>\n",
        "  <tbody>\n",
        "    <tr>\n",
        "      <th>0</th>\n",
        "      <td> 1</td>\n",
        "      <td>  left</td>\n",
        "    </tr>\n",
        "    <tr>\n",
        "      <th>1</th>\n",
        "      <td> 1</td>\n",
        "      <td> right</td>\n",
        "    </tr>\n",
        "    <tr>\n",
        "      <th>2</th>\n",
        "      <td> 1</td>\n",
        "      <td>  left</td>\n",
        "    </tr>\n",
        "    <tr>\n",
        "      <th>3</th>\n",
        "      <td> 1</td>\n",
        "      <td> right</td>\n",
        "    </tr>\n",
        "    <tr>\n",
        "      <th>4</th>\n",
        "      <td> 1</td>\n",
        "      <td>  left</td>\n",
        "    </tr>\n",
        "    <tr>\n",
        "      <th>5</th>\n",
        "      <td> 1</td>\n",
        "      <td> right</td>\n",
        "    </tr>\n",
        "    <tr>\n",
        "      <th>6</th>\n",
        "      <td> 0</td>\n",
        "      <td>  left</td>\n",
        "    </tr>\n",
        "    <tr>\n",
        "      <th>7</th>\n",
        "      <td> 0</td>\n",
        "      <td> right</td>\n",
        "    </tr>\n",
        "  </tbody>\n",
        "</table>\n",
        "</div>"
       ],
       "output_type": "pyout",
       "prompt_number": 3,
       "text": [
        "   valid_prime target_dir\n",
        "0            1       left\n",
        "1            1      right\n",
        "2            1       left\n",
        "3            1      right\n",
        "4            1       left\n",
        "5            1      right\n",
        "6            0       left\n",
        "7            0      right"
       ]
      }
     ],
     "prompt_number": 3
    },
    {
     "cell_type": "code",
     "collapsed": false,
     "input": [
      "posner = expand(posner, 'prime_type', values=['present', 'neutral'], ratio=0.5)\n",
      "posner['valid_prime'][posner['prime_type'] == 'neutral'] = -1\n",
      "posner"
     ],
     "language": "python",
     "metadata": {},
     "outputs": [
      {
       "html": [
        "<div style=\"max-height:1000px;max-width:1500px;overflow:auto;\">\n",
        "<table border=\"1\" class=\"dataframe\">\n",
        "  <thead>\n",
        "    <tr style=\"text-align: right;\">\n",
        "      <th></th>\n",
        "      <th>prime_type</th>\n",
        "      <th>valid_prime</th>\n",
        "      <th>target_dir</th>\n",
        "    </tr>\n",
        "  </thead>\n",
        "  <tbody>\n",
        "    <tr>\n",
        "      <th>0 </th>\n",
        "      <td> present</td>\n",
        "      <td> 1</td>\n",
        "      <td>  left</td>\n",
        "    </tr>\n",
        "    <tr>\n",
        "      <th>1 </th>\n",
        "      <td> present</td>\n",
        "      <td> 1</td>\n",
        "      <td> right</td>\n",
        "    </tr>\n",
        "    <tr>\n",
        "      <th>2 </th>\n",
        "      <td> present</td>\n",
        "      <td> 1</td>\n",
        "      <td>  left</td>\n",
        "    </tr>\n",
        "    <tr>\n",
        "      <th>3 </th>\n",
        "      <td> present</td>\n",
        "      <td> 1</td>\n",
        "      <td> right</td>\n",
        "    </tr>\n",
        "    <tr>\n",
        "      <th>4 </th>\n",
        "      <td> present</td>\n",
        "      <td> 1</td>\n",
        "      <td>  left</td>\n",
        "    </tr>\n",
        "    <tr>\n",
        "      <th>5 </th>\n",
        "      <td> present</td>\n",
        "      <td> 1</td>\n",
        "      <td> right</td>\n",
        "    </tr>\n",
        "    <tr>\n",
        "      <th>6 </th>\n",
        "      <td> present</td>\n",
        "      <td> 0</td>\n",
        "      <td>  left</td>\n",
        "    </tr>\n",
        "    <tr>\n",
        "      <th>7 </th>\n",
        "      <td> present</td>\n",
        "      <td> 0</td>\n",
        "      <td> right</td>\n",
        "    </tr>\n",
        "    <tr>\n",
        "      <th>8 </th>\n",
        "      <td> neutral</td>\n",
        "      <td>-1</td>\n",
        "      <td>  left</td>\n",
        "    </tr>\n",
        "    <tr>\n",
        "      <th>9 </th>\n",
        "      <td> neutral</td>\n",
        "      <td>-1</td>\n",
        "      <td> right</td>\n",
        "    </tr>\n",
        "    <tr>\n",
        "      <th>10</th>\n",
        "      <td> neutral</td>\n",
        "      <td>-1</td>\n",
        "      <td>  left</td>\n",
        "    </tr>\n",
        "    <tr>\n",
        "      <th>11</th>\n",
        "      <td> neutral</td>\n",
        "      <td>-1</td>\n",
        "      <td> right</td>\n",
        "    </tr>\n",
        "    <tr>\n",
        "      <th>12</th>\n",
        "      <td> neutral</td>\n",
        "      <td>-1</td>\n",
        "      <td>  left</td>\n",
        "    </tr>\n",
        "    <tr>\n",
        "      <th>13</th>\n",
        "      <td> neutral</td>\n",
        "      <td>-1</td>\n",
        "      <td> right</td>\n",
        "    </tr>\n",
        "    <tr>\n",
        "      <th>14</th>\n",
        "      <td> neutral</td>\n",
        "      <td>-1</td>\n",
        "      <td>  left</td>\n",
        "    </tr>\n",
        "    <tr>\n",
        "      <th>15</th>\n",
        "      <td> neutral</td>\n",
        "      <td>-1</td>\n",
        "      <td> right</td>\n",
        "    </tr>\n",
        "  </tbody>\n",
        "</table>\n",
        "</div>"
       ],
       "output_type": "pyout",
       "prompt_number": 4,
       "text": [
        "   prime_type  valid_prime target_dir\n",
        "0     present            1       left\n",
        "1     present            1      right\n",
        "2     present            1       left\n",
        "3     present            1      right\n",
        "4     present            1       left\n",
        "5     present            1      right\n",
        "6     present            0       left\n",
        "7     present            0      right\n",
        "8     neutral           -1       left\n",
        "9     neutral           -1      right\n",
        "10    neutral           -1       left\n",
        "11    neutral           -1      right\n",
        "12    neutral           -1       left\n",
        "13    neutral           -1      right\n",
        "14    neutral           -1       left\n",
        "15    neutral           -1      right"
       ]
      }
     ],
     "prompt_number": 4
    },
    {
     "cell_type": "heading",
     "level": 2,
     "metadata": {},
     "source": [
      "extend"
     ]
    },
    {
     "cell_type": "raw",
     "metadata": {
      "raw_mimetype": "text/restructuredtext"
     },
     "source": [
      ".. autofunction::labtools.trials_functions.extend\n",
      "    :noindex:"
     ]
    },
    {
     "cell_type": "code",
     "collapsed": false,
     "input": [
      "extend(posner, reps = 2)"
     ],
     "language": "python",
     "metadata": {},
     "outputs": [
      {
       "html": [
        "<div style=\"max-height:1000px;max-width:1500px;overflow:auto;\">\n",
        "<table border=\"1\" class=\"dataframe\">\n",
        "  <thead>\n",
        "    <tr style=\"text-align: right;\">\n",
        "      <th></th>\n",
        "      <th>prime_type</th>\n",
        "      <th>valid_prime</th>\n",
        "      <th>target_dir</th>\n",
        "    </tr>\n",
        "  </thead>\n",
        "  <tbody>\n",
        "    <tr>\n",
        "      <th>0 </th>\n",
        "      <td> present</td>\n",
        "      <td> 1</td>\n",
        "      <td>  left</td>\n",
        "    </tr>\n",
        "    <tr>\n",
        "      <th>1 </th>\n",
        "      <td> present</td>\n",
        "      <td> 1</td>\n",
        "      <td> right</td>\n",
        "    </tr>\n",
        "    <tr>\n",
        "      <th>2 </th>\n",
        "      <td> present</td>\n",
        "      <td> 1</td>\n",
        "      <td>  left</td>\n",
        "    </tr>\n",
        "    <tr>\n",
        "      <th>3 </th>\n",
        "      <td> present</td>\n",
        "      <td> 1</td>\n",
        "      <td> right</td>\n",
        "    </tr>\n",
        "    <tr>\n",
        "      <th>4 </th>\n",
        "      <td> present</td>\n",
        "      <td> 1</td>\n",
        "      <td>  left</td>\n",
        "    </tr>\n",
        "    <tr>\n",
        "      <th>5 </th>\n",
        "      <td> present</td>\n",
        "      <td> 1</td>\n",
        "      <td> right</td>\n",
        "    </tr>\n",
        "    <tr>\n",
        "      <th>6 </th>\n",
        "      <td> present</td>\n",
        "      <td> 0</td>\n",
        "      <td>  left</td>\n",
        "    </tr>\n",
        "    <tr>\n",
        "      <th>7 </th>\n",
        "      <td> present</td>\n",
        "      <td> 0</td>\n",
        "      <td> right</td>\n",
        "    </tr>\n",
        "    <tr>\n",
        "      <th>8 </th>\n",
        "      <td> neutral</td>\n",
        "      <td>-1</td>\n",
        "      <td>  left</td>\n",
        "    </tr>\n",
        "    <tr>\n",
        "      <th>9 </th>\n",
        "      <td> neutral</td>\n",
        "      <td>-1</td>\n",
        "      <td> right</td>\n",
        "    </tr>\n",
        "    <tr>\n",
        "      <th>10</th>\n",
        "      <td> neutral</td>\n",
        "      <td>-1</td>\n",
        "      <td>  left</td>\n",
        "    </tr>\n",
        "    <tr>\n",
        "      <th>11</th>\n",
        "      <td> neutral</td>\n",
        "      <td>-1</td>\n",
        "      <td> right</td>\n",
        "    </tr>\n",
        "    <tr>\n",
        "      <th>12</th>\n",
        "      <td> neutral</td>\n",
        "      <td>-1</td>\n",
        "      <td>  left</td>\n",
        "    </tr>\n",
        "    <tr>\n",
        "      <th>13</th>\n",
        "      <td> neutral</td>\n",
        "      <td>-1</td>\n",
        "      <td> right</td>\n",
        "    </tr>\n",
        "    <tr>\n",
        "      <th>14</th>\n",
        "      <td> neutral</td>\n",
        "      <td>-1</td>\n",
        "      <td>  left</td>\n",
        "    </tr>\n",
        "    <tr>\n",
        "      <th>15</th>\n",
        "      <td> neutral</td>\n",
        "      <td>-1</td>\n",
        "      <td> right</td>\n",
        "    </tr>\n",
        "    <tr>\n",
        "      <th>16</th>\n",
        "      <td> present</td>\n",
        "      <td> 1</td>\n",
        "      <td>  left</td>\n",
        "    </tr>\n",
        "    <tr>\n",
        "      <th>17</th>\n",
        "      <td> present</td>\n",
        "      <td> 1</td>\n",
        "      <td> right</td>\n",
        "    </tr>\n",
        "    <tr>\n",
        "      <th>18</th>\n",
        "      <td> present</td>\n",
        "      <td> 1</td>\n",
        "      <td>  left</td>\n",
        "    </tr>\n",
        "    <tr>\n",
        "      <th>19</th>\n",
        "      <td> present</td>\n",
        "      <td> 1</td>\n",
        "      <td> right</td>\n",
        "    </tr>\n",
        "    <tr>\n",
        "      <th>20</th>\n",
        "      <td> present</td>\n",
        "      <td> 1</td>\n",
        "      <td>  left</td>\n",
        "    </tr>\n",
        "    <tr>\n",
        "      <th>21</th>\n",
        "      <td> present</td>\n",
        "      <td> 1</td>\n",
        "      <td> right</td>\n",
        "    </tr>\n",
        "    <tr>\n",
        "      <th>22</th>\n",
        "      <td> present</td>\n",
        "      <td> 0</td>\n",
        "      <td>  left</td>\n",
        "    </tr>\n",
        "    <tr>\n",
        "      <th>23</th>\n",
        "      <td> present</td>\n",
        "      <td> 0</td>\n",
        "      <td> right</td>\n",
        "    </tr>\n",
        "    <tr>\n",
        "      <th>24</th>\n",
        "      <td> neutral</td>\n",
        "      <td>-1</td>\n",
        "      <td>  left</td>\n",
        "    </tr>\n",
        "    <tr>\n",
        "      <th>25</th>\n",
        "      <td> neutral</td>\n",
        "      <td>-1</td>\n",
        "      <td> right</td>\n",
        "    </tr>\n",
        "    <tr>\n",
        "      <th>26</th>\n",
        "      <td> neutral</td>\n",
        "      <td>-1</td>\n",
        "      <td>  left</td>\n",
        "    </tr>\n",
        "    <tr>\n",
        "      <th>27</th>\n",
        "      <td> neutral</td>\n",
        "      <td>-1</td>\n",
        "      <td> right</td>\n",
        "    </tr>\n",
        "    <tr>\n",
        "      <th>28</th>\n",
        "      <td> neutral</td>\n",
        "      <td>-1</td>\n",
        "      <td>  left</td>\n",
        "    </tr>\n",
        "    <tr>\n",
        "      <th>29</th>\n",
        "      <td> neutral</td>\n",
        "      <td>-1</td>\n",
        "      <td> right</td>\n",
        "    </tr>\n",
        "    <tr>\n",
        "      <th>30</th>\n",
        "      <td> neutral</td>\n",
        "      <td>-1</td>\n",
        "      <td>  left</td>\n",
        "    </tr>\n",
        "    <tr>\n",
        "      <th>31</th>\n",
        "      <td> neutral</td>\n",
        "      <td>-1</td>\n",
        "      <td> right</td>\n",
        "    </tr>\n",
        "  </tbody>\n",
        "</table>\n",
        "</div>"
       ],
       "output_type": "pyout",
       "prompt_number": 5,
       "text": [
        "   prime_type  valid_prime target_dir\n",
        "0     present            1       left\n",
        "1     present            1      right\n",
        "2     present            1       left\n",
        "3     present            1      right\n",
        "4     present            1       left\n",
        "5     present            1      right\n",
        "6     present            0       left\n",
        "7     present            0      right\n",
        "8     neutral           -1       left\n",
        "9     neutral           -1      right\n",
        "10    neutral           -1       left\n",
        "11    neutral           -1      right\n",
        "12    neutral           -1       left\n",
        "13    neutral           -1      right\n",
        "14    neutral           -1       left\n",
        "15    neutral           -1      right\n",
        "16    present            1       left\n",
        "17    present            1      right\n",
        "18    present            1       left\n",
        "19    present            1      right\n",
        "20    present            1       left\n",
        "21    present            1      right\n",
        "22    present            0       left\n",
        "23    present            0      right\n",
        "24    neutral           -1       left\n",
        "25    neutral           -1      right\n",
        "26    neutral           -1       left\n",
        "27    neutral           -1      right\n",
        "28    neutral           -1       left\n",
        "29    neutral           -1      right\n",
        "30    neutral           -1       left\n",
        "31    neutral           -1      right"
       ]
      }
     ],
     "prompt_number": 5
    },
    {
     "cell_type": "code",
     "collapsed": false,
     "input": [
      "posner_full = extend(posner, max_length = 390, rep_ix = 'iteration')\n",
      "len(posner_full)"
     ],
     "language": "python",
     "metadata": {},
     "outputs": [
      {
       "output_type": "pyout",
       "prompt_number": 6,
       "text": [
        "384"
       ]
      }
     ],
     "prompt_number": 6
    },
    {
     "cell_type": "markdown",
     "metadata": {},
     "source": [
      "## add_block"
     ]
    },
    {
     "cell_type": "raw",
     "metadata": {
      "raw_mimetype": "text/restructuredtext"
     },
     "source": [
      ".. autofunction:: labtools.trials_functions.add_block\n",
      "    :noindex:"
     ]
    },
    {
     "cell_type": "markdown",
     "metadata": {},
     "source": [
      "## simple_shuffle"
     ]
    },
    {
     "cell_type": "raw",
     "metadata": {
      "raw_mimetype": "text/restructuredtext"
     },
     "source": [
      ".. autofunction:: labtools.trials_functions.simple_shuffle\n",
      "    :noindex:"
     ]
    },
    {
     "cell_type": "markdown",
     "metadata": {},
     "source": [
      "## smart_shuffle"
     ]
    },
    {
     "cell_type": "raw",
     "metadata": {
      "raw_mimetype": "text/restructuredtext"
     },
     "source": [
      ".. autofunction:: labtools.trials_functions.smart_shuffle\n",
      "    :noindex:"
     ]
    }
   ],
   "metadata": {}
  }
 ]
}