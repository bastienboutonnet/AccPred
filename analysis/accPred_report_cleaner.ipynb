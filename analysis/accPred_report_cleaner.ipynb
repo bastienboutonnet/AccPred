{
 "cells": [
  {
   "cell_type": "markdown",
   "metadata": {},
   "source": [
    "# Accented Prediction Analysis Log/Report\n",
    "## Preps"
   ]
  },
  {
   "cell_type": "code",
   "execution_count": 4,
   "metadata": {
    "collapsed": false
   },
   "outputs": [
    {
     "name": "stderr",
     "output_type": "stream",
     "text": [
      "Warning message:\n",
      ": Too few values at 360 locations: 49, 50, 51, 52, 53, 54, 55, 56, 57, 58, 59, 60, 109, 110, 111, 112, 113, 114, 115, 116, ..."
     ]
    }
   ],
   "source": [
    "### Load Libraries\n",
    "suppressWarnings(suppressMessages(library(dplyr)))\n",
    "suppressWarnings(suppressMessages(library(tidyr)))\n",
    "suppressWarnings(suppressMessages(library(lmSupport)))\n",
    "suppressWarnings(suppressMessages(library(lmerTest)))\n",
    "\n",
    "### Load Data\n",
    "dat1=read.table('accPred_PMN_MeanAmps.txt',header=T)\n",
    "dat1['comp']=\"PMN\"\n",
    "dat2=read.table('accPred_N4_MeanAmps.txt',header=T)\n",
    "dat2['comp']=\"N4\"\n",
    "\n",
    "## Create New variables for later modelling -string split of conditino\n",
    "dat=rbind(dat1,dat2)\n",
    "dat['cond']=varRecode(dat$bini,c(1,2,3,4,5),c('Native Expected','Native Unexpected',\n",
    "                                          'Non-native Expected','Non-native Unexpected','Control'))\n",
    "#clean up var names, factorise etc\n",
    "dat=rename(dat,meanAmp=value)\n",
    "dat=rename(dat,ppt=ERPset)\n",
    "dat=separate(data=dat, col=cond,into=c('nativeness','expectedness'),sep=' ',remove=FALSE)\n",
    "dat$nativeness=as.factor(dat$nativeness)\n",
    "dat$expectedness=as.factor(dat$expectedness)\n",
    "dat$comp=as.factor(dat$comp)\n",
    "dat$cond=as.factor(dat$cond)\n",
    "dat$chindex=as.factor(dat$chindex)"
   ]
  },
  {
   "cell_type": "markdown",
   "metadata": {},
   "source": [
    "## Analysis\n",
    "### PMN"
   ]
  },
  {
   "cell_type": "code",
   "execution_count": 5,
   "metadata": {
    "collapsed": true
   },
   "outputs": [],
   "source": [
    "##Subset Data\n",
    "pmn=filter(dat, comp==\"PMN\")\n",
    "pmn=filter(pmn,cond!=\"Control\")\n",
    "pmnROI=filter(pmn,chindex%in%c(12,48,11,47,19,32))\n",
    "\n",
    "## Centre categorical variables for the linear models (helps convergence)\n",
    "pmnROI['nat.Cent']=varRecode(pmnROI$nativeness, c('Native','Non-native'),c(.5,-.5))\n",
    "pmnROI['exp.Cent']=varRecode(pmnROI$expectedness, c('Expected','Unexpected'),c(.5,-.5))"
   ]
  },
  {
   "cell_type": "markdown",
   "metadata": {},
   "source": [
    "Building several models for the data. These will be assessed using information criteria in order to choose which model fits the data best. Models go from simples to most complex."
   ]
  },
  {
   "cell_type": "code",
   "execution_count": 6,
   "metadata": {
    "collapsed": false
   },
   "outputs": [
    {
     "data": {
      "text/html": [
       "<table>\n",
       "<thead><tr><th></th><th scope=col>Df</th><th scope=col>AIC</th><th scope=col>BIC</th><th scope=col>logLik</th><th scope=col>deviance</th><th scope=col>Chisq</th><th scope=col>Chi Df</th><th scope=col>Pr(>Chisq)</th></tr></thead>\n",
       "<tbody>\n",
       "\t<tr><th scope=row>object</th><td>6</td><td>1189.125</td><td>1212.442</td><td>-588.5626</td><td>1177.125</td><td>NA</td><td>NA</td><td>NA</td></tr>\n",
       "\t<tr><th scope=row>..1</th><td>8</td><td>1159.421</td><td>1190.51</td><td>-571.7104</td><td>1143.421</td><td>33.70422</td><td>2</td><td>4.79979e-08</td></tr>\n",
       "\t<tr><th scope=row>..2</th><td>8</td><td>1134.55</td><td>1165.638</td><td>-559.2748</td><td>1118.55</td><td>24.87136</td><td>0</td><td>0</td></tr>\n",
       "\t<tr><th scope=row>..3</th><td>11</td><td>1083.368</td><td>1126.115</td><td>-530.6838</td><td>1061.368</td><td>57.18198</td><td>3</td><td>2.349987e-12</td></tr>\n",
       "</tbody>\n",
       "</table>\n"
      ],
      "text/latex": [
       "\\begin{tabular}{r|llllllll}\n",
       "  & Df & AIC & BIC & logLik & deviance & Chisq & Chi Df & Pr(>Chisq)\\\\\n",
       "\\hline\n",
       "\tobject & 6 & 1189.125 & 1212.442 & -588.5626 & 1177.125 & NA & NA & NA\\\\\n",
       "\t..1 & 8 & 1159.421 & 1190.51 & -571.7104 & 1143.421 & 33.70422 & 2 & 4.79979e-08\\\\\n",
       "\t..2 & 8 & 1134.55 & 1165.638 & -559.2748 & 1118.55 & 24.87136 & 0 & 0\\\\\n",
       "\t..3 & 11 & 1083.368 & 1126.115 & -530.6838 & 1061.368 & 57.18198 & 3 & 2.349987e-12\\\\\n",
       "\\end{tabular}\n"
      ],
      "text/plain": [
       "Data: pmnROI\n",
       "Models:\n",
       "object: meanAmp ~ nat.Cent * exp.Cent + (1 | ppt)\n",
       "..1: meanAmp ~ nat.Cent * exp.Cent + (1 + exp.Cent | ppt)\n",
       "..2: meanAmp ~ nat.Cent * exp.Cent + (1 + nat.Cent | ppt)\n",
       "..3: meanAmp ~ nat.Cent * exp.Cent + (1 + nat.Cent + exp.Cent | ppt)\n",
       "       Df    AIC    BIC  logLik deviance  Chisq Chi Df Pr(>Chisq)    \n",
       "object  6 1189.1 1212.4 -588.56   1177.1                             \n",
       "..1     8 1159.4 1190.5 -571.71   1143.4 33.704      2   4.80e-08 ***\n",
       "..2     8 1134.5 1165.6 -559.27   1118.5 24.871      0  < 2.2e-16 ***\n",
       "..3    11 1083.4 1126.1 -530.68   1061.4 57.182      3   2.35e-12 ***\n",
       "---\n",
       "Signif. codes:  0 ‘***’ 0.001 ‘**’ 0.01 ‘*’ 0.05 ‘.’ 0.1 ‘ ’ 1"
      ]
     },
     "execution_count": 6,
     "metadata": {},
     "output_type": "execute_result"
    }
   ],
   "source": [
    "pm1=lmer(meanAmp~nat.Cent*exp.Cent+(1|ppt),data=pmnROI,REML=F)\n",
    "pm2=lmer(meanAmp~nat.Cent*exp.Cent+(1+exp.Cent|ppt),data=pmnROI,REML=F)\n",
    "pm3=lmer(meanAmp~nat.Cent*exp.Cent+(1+nat.Cent|ppt),data=pmnROI,REML=F)\n",
    "pm4=lmer(meanAmp~nat.Cent*exp.Cent+(1+nat.Cent+exp.Cent|ppt),data=pmnROI,REML=F)\n",
    "anova(pm1,pm2,pm3,pm4)"
   ]
  },
  {
   "cell_type": "markdown",
   "metadata": {},
   "source": [
    "Looks like the model allowing for individual slopes for main effects of expectedness and nativeness fits data better.\n",
    "This makes a lot of sense: the way in which individual participants will \"react\" to differences in nativeness and expectedness are likely to muddy the data if not properly modelled, and we can see that both main effects *should* be included."
   ]
  },
  {
   "cell_type": "code",
   "execution_count": 7,
   "metadata": {
    "collapsed": false
   },
   "outputs": [
    {
     "data": {
      "text/plain": [
       "Linear mixed model fit by maximum likelihood t-tests use Satterthwaite\n",
       "  approximations to degrees of freedom [lmerMod]\n",
       "Formula: meanAmp ~ nat.Cent * exp.Cent + (1 + nat.Cent + exp.Cent | ppt)\n",
       "   Data: pmnROI\n",
       "\n",
       "     AIC      BIC   logLik deviance df.resid \n",
       "  1083.4   1126.1   -530.7   1061.4      349 \n",
       "\n",
       "Scaled residuals: \n",
       "    Min      1Q  Median      3Q     Max \n",
       "-2.5534 -0.6483 -0.0306  0.5641  3.2836 \n",
       "\n",
       "Random effects:\n",
       " Groups   Name        Variance Std.Dev. Corr       \n",
       " ppt      (Intercept) 0.9435   0.9713              \n",
       "          nat.Cent0.5 1.2896   1.1356   -0.85      \n",
       "          exp.Cent0.5 0.8795   0.9378   -0.53  0.48\n",
       " Residual             0.8629   0.9289              \n",
       "Number of obs: 360, groups:  ppt, 15\n",
       "\n",
       "Fixed effects:\n",
       "                         Estimate Std. Error        df t value Pr(>|t|)  \n",
       "(Intercept)              -0.07449    0.26923  16.04000  -0.277   0.7856  \n",
       "nat.Cent0.5               0.33286    0.32426  18.15000   1.027   0.3181  \n",
       "exp.Cent0.5               0.53350    0.27894  19.49000   1.913   0.0706 .\n",
       "nat.Cent0.5:exp.Cent0.5   0.43943    0.19584 315.00000   2.244   0.0255 *\n",
       "---\n",
       "Signif. codes:  0 ‘***’ 0.001 ‘**’ 0.01 ‘*’ 0.05 ‘.’ 0.1 ‘ ’ 1\n",
       "\n",
       "Correlation of Fixed Effects:\n",
       "            (Intr) nt.C0.5 e.C0.5\n",
       "nat.Cent0.5 -0.824               \n",
       "exp.Cent0.5 -0.553  0.479        \n",
       "n.C0.5:.C0.  0.182 -0.302  -0.351"
      ]
     },
     "execution_count": 7,
     "metadata": {},
     "output_type": "execute_result"
    }
   ],
   "source": [
    "summary(pm4)"
   ]
  },
  {
   "cell_type": "markdown",
   "metadata": {},
   "source": [
    "### PMN Interp\n",
    "- we have a main effect of *expectedness* barely significant (probably because it's sucked by the interaction)\n",
    "    - not so surprising here, expectedness, independently of nativeness *should* modulate the brain comuptational demands.\n",
    "- interaction between natineness and expectedness means that the magnitude of the expectedness effect was modulated by the nativeness of the speaker, whereby the expectedness effect was **stronger** in the case of a native speaker than a non-native. This can be understood as a lack or less strong predictions when hearing non-native speech. This interpretation makes sense since the signal being somewhat less reliable the brain may have to deal with more costly un-ruling of expectation rather than having to predict less. It's probably more costly to predict and then to have to cancel that prediction and compute the actual signal than just to compute the actual signal.\n",
    "- **The interaction needs to be unpacked** (run separate lmes)\n",
    "\n",
    "### N4 window"
   ]
  },
  {
   "cell_type": "code",
   "execution_count": 8,
   "metadata": {
    "collapsed": true
   },
   "outputs": [],
   "source": [
    "n4=filter(dat, comp==\"N4\")\n",
    "n4=filter(n4,cond!=\"Control\")\n",
    "n4ROI=filter(n4,chindex%in%c(12,48,11,47,19,32))\n",
    "\n",
    "n4ROI['nat.Cent']=varRecode(n4ROI$nativeness, c('Native','Non-native'),c(.5,-.5))\n",
    "n4ROI['exp.Cent']=varRecode(n4ROI$expectedness, c('Expected','Unexpected'),c(.5,-.5))"
   ]
  },
  {
   "cell_type": "code",
   "execution_count": 9,
   "metadata": {
    "collapsed": true
   },
   "outputs": [],
   "source": [
    "n4m1=lmer(meanAmp~nat.Cent*exp.Cent+(1|ppt),data=n4ROI,REML=F)\n",
    "n4m2=lmer(meanAmp~nat.Cent*exp.Cent+(1+exp.Cent|ppt),data=n4ROI,REML=F)\n",
    "n4m3=lmer(meanAmp~nat.Cent*exp.Cent+(1+nat.Cent|ppt),data=n4ROI,REML=F)\n",
    "n4m4=lmer(meanAmp~nat.Cent*exp.Cent+(1+nat.Cent+exp.Cent|ppt),data=n4ROI,REML=F)"
   ]
  },
  {
   "cell_type": "code",
   "execution_count": 10,
   "metadata": {
    "collapsed": false
   },
   "outputs": [
    {
     "data": {
      "text/html": [
       "<table>\n",
       "<thead><tr><th></th><th scope=col>Df</th><th scope=col>AIC</th><th scope=col>BIC</th><th scope=col>logLik</th><th scope=col>deviance</th><th scope=col>Chisq</th><th scope=col>Chi Df</th><th scope=col>Pr(>Chisq)</th></tr></thead>\n",
       "<tbody>\n",
       "\t<tr><th scope=row>object</th><td>6</td><td>1340.798</td><td>1364.114</td><td>-664.3989</td><td>1328.798</td><td>NA</td><td>NA</td><td>NA</td></tr>\n",
       "\t<tr><th scope=row>..1</th><td>8</td><td>1310.406</td><td>1341.495</td><td>-647.2031</td><td>1294.406</td><td>34.39161</td><td>2</td><td>3.403743e-08</td></tr>\n",
       "\t<tr><th scope=row>..2</th><td>8</td><td>1317.485</td><td>1348.574</td><td>-650.7425</td><td>1301.485</td><td>0</td><td>0</td><td>1</td></tr>\n",
       "\t<tr><th scope=row>..3</th><td>11</td><td>1278.14</td><td>1320.887</td><td>-628.0701</td><td>1256.14</td><td>45.34482</td><td>3</td><td>7.81592e-10</td></tr>\n",
       "</tbody>\n",
       "</table>\n"
      ],
      "text/latex": [
       "\\begin{tabular}{r|llllllll}\n",
       "  & Df & AIC & BIC & logLik & deviance & Chisq & Chi Df & Pr(>Chisq)\\\\\n",
       "\\hline\n",
       "\tobject & 6 & 1340.798 & 1364.114 & -664.3989 & 1328.798 & NA & NA & NA\\\\\n",
       "\t..1 & 8 & 1310.406 & 1341.495 & -647.2031 & 1294.406 & 34.39161 & 2 & 3.403743e-08\\\\\n",
       "\t..2 & 8 & 1317.485 & 1348.574 & -650.7425 & 1301.485 & 0 & 0 & 1\\\\\n",
       "\t..3 & 11 & 1278.14 & 1320.887 & -628.0701 & 1256.14 & 45.34482 & 3 & 7.81592e-10\\\\\n",
       "\\end{tabular}\n"
      ],
      "text/plain": [
       "Data: n4ROI\n",
       "Models:\n",
       "object: meanAmp ~ nat.Cent * exp.Cent + (1 | ppt)\n",
       "..1: meanAmp ~ nat.Cent * exp.Cent + (1 + exp.Cent | ppt)\n",
       "..2: meanAmp ~ nat.Cent * exp.Cent + (1 + nat.Cent | ppt)\n",
       "..3: meanAmp ~ nat.Cent * exp.Cent + (1 + nat.Cent + exp.Cent | ppt)\n",
       "       Df    AIC    BIC  logLik deviance  Chisq Chi Df Pr(>Chisq)    \n",
       "object  6 1340.8 1364.1 -664.40   1328.8                             \n",
       "..1     8 1310.4 1341.5 -647.20   1294.4 34.392      2  3.404e-08 ***\n",
       "..2     8 1317.5 1348.6 -650.74   1301.5  0.000      0          1    \n",
       "..3    11 1278.1 1320.9 -628.07   1256.1 45.345      3  7.816e-10 ***\n",
       "---\n",
       "Signif. codes:  0 ‘***’ 0.001 ‘**’ 0.01 ‘*’ 0.05 ‘.’ 0.1 ‘ ’ 1"
      ]
     },
     "execution_count": 10,
     "metadata": {},
     "output_type": "execute_result"
    }
   ],
   "source": [
    "anova(n4m1,n4m2,n4m3,n4m4)"
   ]
  },
  {
   "cell_type": "markdown",
   "metadata": {},
   "source": [
    "Again here the model with the main effect slopes per participant seems to fit the data better. We will therefore go with that once also since it parallels the PMN model and therefore allows for more direct comparison"
   ]
  },
  {
   "cell_type": "code",
   "execution_count": 11,
   "metadata": {
    "collapsed": false
   },
   "outputs": [
    {
     "data": {
      "text/plain": [
       "Linear mixed model fit by maximum likelihood t-tests use Satterthwaite\n",
       "  approximations to degrees of freedom [lmerMod]\n",
       "Formula: meanAmp ~ nat.Cent * exp.Cent + (1 + nat.Cent + exp.Cent | ppt)\n",
       "   Data: n4ROI\n",
       "\n",
       "     AIC      BIC   logLik deviance df.resid \n",
       "  1278.1   1320.9   -628.1   1256.1      349 \n",
       "\n",
       "Scaled residuals: \n",
       "     Min       1Q   Median       3Q      Max \n",
       "-2.83375 -0.58329 -0.02255  0.68161  2.53709 \n",
       "\n",
       "Random effects:\n",
       " Groups   Name        Variance Std.Dev. Corr       \n",
       " ppt      (Intercept) 1.490    1.221               \n",
       "          nat.Cent0.5 1.147    1.071    -0.26      \n",
       "          exp.Cent0.5 1.332    1.154    -0.43 -0.09\n",
       " Residual             1.461    1.209               \n",
       "Number of obs: 360, groups:  ppt, 15\n",
       "\n",
       "Fixed effects:\n",
       "                        Estimate Std. Error       df t value Pr(>|t|)    \n",
       "(Intercept)              -1.6027     0.3399  16.1100  -4.715  0.00023 ***\n",
       "nat.Cent0.5               0.3314     0.3300  20.6800   1.004  0.32690    \n",
       "exp.Cent0.5               0.7315     0.3482  19.9700   2.101  0.04856 *  \n",
       "nat.Cent0.5:exp.Cent0.5  -0.2037     0.2548 315.0000  -0.799  0.42477    \n",
       "---\n",
       "Signif. codes:  0 ‘***’ 0.001 ‘**’ 0.01 ‘*’ 0.05 ‘.’ 0.1 ‘ ’ 1\n",
       "\n",
       "Correlation of Fixed Effects:\n",
       "            (Intr) nt.C0.5 e.C0.5\n",
       "nat.Cent0.5 -0.347               \n",
       "exp.Cent0.5 -0.481  0.077        \n",
       "n.C0.5:.C0.  0.187 -0.386  -0.366"
      ]
     },
     "execution_count": 11,
     "metadata": {},
     "output_type": "execute_result"
    }
   ],
   "source": [
    "summary(n4m4)"
   ]
  },
  {
   "cell_type": "markdown",
   "metadata": {},
   "source": [
    "### N4 Interp\n",
    "- **main effect of expectedness** alone.\n",
    "This time window was only doing more work when the item was unexpected. Both conditions are significant. This reflects that at this point in time the brain does do work to interpret and reconcile the word that would have been hearn and not compatible with the expectation.\n",
    "\n",
    "In the case of the non-native context, the violation is not processed as a problem of expectation but probably more processed when the word is actually upcoming.\n",
    "\n",
    "### Overall message with the two effects\n",
    "The fact that the N4 time window is not affected by natineness, shows some light also on the timing of the effect. In all cases does the brain have to process the incongruence with the context, but in one case it's predicting strongly and in the other it's not really predicting (at least not as strongly) and deals with the stuff later (in a more passive view)\n",
    "\n",
    "This sheds light on the theory of the brain as a passive vs. predictive machine, that **again** things may not be black and white, and that context highly changes how the brain generates its predictions and how it's able to adapt to the computational needs of a situation. Great stuff hey?"
   ]
  }
 ],
 "metadata": {
  "hide_input": false,
  "kernelspec": {
   "display_name": "R",
   "language": "R",
   "name": "ir"
  },
  "language_info": {
   "codemirror_mode": "r",
   "file_extension": ".r",
   "mimetype": "text/x-r-source",
   "name": "R",
   "pygments_lexer": "r",
   "version": "3.2.2"
  }
 },
 "nbformat": 4,
 "nbformat_minor": 0
}
