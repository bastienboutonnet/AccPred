{
 "cells": [
  {
   "cell_type": "markdown",
   "metadata": {},
   "source": [
    "## Acc Pred Lexical Characteristics Analysis"
   ]
  },
  {
   "cell_type": "code",
   "execution_count": 12,
   "metadata": {
    "collapsed": false
   },
   "outputs": [],
   "source": [
    "##Libraries\n",
    "suppressWarnings(suppressMessages(library(dplyr)))\n",
    "suppressWarnings(suppressMessages(library(tidyr)))\n",
    "suppressWarnings(suppressMessages(library(lmSupport)))\n",
    "suppressWarnings(suppressMessages(library(lmerTest)))\n",
    "suppressWarnings(suppressMessages(library(plotrix)))\n",
    "\n",
    "##Handy Functions\n",
    "\n",
    "\n",
    "##Data Load\n",
    "accPredDat=read.csv('./behavData/accPredAll.csv',header=T)\n",
    "#headerAccPred=read.table('./behavData/header_testaccPred.txt',header=T)"
   ]
  },
  {
   "cell_type": "code",
   "execution_count": 8,
   "metadata": {
    "collapsed": false
   },
   "outputs": [
    {
     "data": {
      "text/html": [
       "<table>\n",
       "<thead><tr><th></th><th scope=col>screenMode</th><th scope=col>seed</th><th scope=col>subjCode</th><th scope=col>breakEvery</th><th scope=col>useParallel</th><th scope=col>Question</th><th scope=col>compLower</th><th scope=col>filename</th><th scope=col>hasQuestion</th><th scope=col>newWord1</th><th scope=col>ellip.h</th><th scope=col>waitForEnd</th><th scope=col>waitForNounOffset</th><th scope=col>yesOrNo</th><th scope=col>trialIndex</th><th scope=col>expTimer</th><th scope=col>whichPart</th><th scope=col>trialIndex.1</th><th scope=col>response</th><th scope=col>isRight</th><th scope=col>rt</th></tr></thead>\n",
       "<tbody>\n",
       "\t<tr><th scope=row>1</th><td>fs</td><td>10</td><td>01M32</td><td>30</td><td>yes</td><td></td><td></td><td>nonNat_330_control</td><td>0</td><td>speelgoed</td><td>⋯</td><td>0.131</td><td>0.636</td><td>NaN</td><td>1</td><td>292.761</td><td>experiment</td><td>0</td><td>-99</td><td>-99</td><td>-99000</td></tr>\n",
       "\t<tr><th scope=row>2</th><td>fs</td><td>10</td><td>01M32</td><td>30</td><td>yes</td><td>Werkt de lift bij brand?</td><td>de lift</td><td>nonNat_145_unrelated</td><td>1</td><td></td><td>⋯</td><td>0.952</td><td>0.264</td><td>0</td><td>2</td><td>303.259</td><td>experiment</td><td>1</td><td>z</td><td>1</td><td>1842.102</td></tr>\n",
       "</tbody>\n",
       "</table>\n"
      ],
      "text/latex": [
       "\\begin{tabular}{r|lllllllllllllllllllllllllllllllll}\n",
       "  & screenMode & seed & subjCode & breakEvery & useParallel & Question & compLower & filename & hasQuestion & newWord1 & ellip.h & waitForEnd & waitForNounOffset & yesOrNo & trialIndex & expTimer & whichPart & trialIndex.1 & response & isRight & rt\\\\\n",
       "\\hline\n",
       "\t1 & fs & 10 & 01M32 & 30 & yes &  &  & nonNat_330_control & 0 & speelgoed & ⋯ & 0.131 & 0.636 & NaN & 1 & 292.761 & experiment & 0 & -99 & -99 & -99000\\\\\n",
       "\t2 & fs & 10 & 01M32 & 30 & yes & Werkt de lift bij brand? & de lift & nonNat_145_unrelated & 1 &  & ⋯ & 0.952 & 0.264 & 0 & 2 & 303.259 & experiment & 1 & z & 1 & 1842.102\\\\\n",
       "\\end{tabular}\n"
      ],
      "text/plain": [
       "  screenMode seed subjCode breakEvery useParallel                 Question\n",
       "1         fs   10    01M32         30         yes                         \n",
       "2         fs   10    01M32         30         yes Werkt de lift bij brand?\n",
       "  compLower             filename hasQuestion  newWord1 newWord2 offsetNoun\n",
       "1             nonNat_330_control           0 speelgoed     lego      7.410\n",
       "2   de lift nonNat_145_unrelated           1                         2.852\n",
       "  onsetDet onsetNoun       part relatedness sentID speaker totalLen trigDet\n",
       "1    6.629     6.774 experiment     control    330  nonNat    7.541      55\n",
       "2    2.440     2.588 experiment   unrelated    145  nonNat    3.804      22\n",
       "  trigOffsetNoun unrelOppositeGender waitForDetOffset waitForEnd\n",
       "1            155                                0.145      0.131\n",
       "2            229             het dak            0.148      0.952\n",
       "  waitForNounOffset yesOrNo trialIndex expTimer  whichPart trialIndex.1\n",
       "1             0.636     NaN          1  292.761 experiment            0\n",
       "2             0.264       0          2  303.259 experiment            1\n",
       "  response isRight         rt\n",
       "1      -99     -99 -99000.000\n",
       "2        z       1   1842.102"
      ]
     },
     "execution_count": 8,
     "metadata": {},
     "output_type": "execute_result"
    }
   ],
   "source": [
    "head(accPredDat,2)\n",
    "#head(headerAccPred)"
   ]
  },
  {
   "cell_type": "code",
   "execution_count": 16,
   "metadata": {
    "collapsed": false
   },
   "outputs": [],
   "source": [
    "bySpeakerRelatedness=accPredDat %>%\n",
    "    group_by(speaker,relatedness) %>%\n",
    "    summarise(mDet=mean(waitForDetOffset,na.rm=T),mDet.se=std.error(waitForDetOffset,na.rm=T),\n",
    "              mNoun=mean(waitForNounOffset,na.rm=T),mNoun.se=std.error(waitForNounOffset,na.rm=T),\n",
    "              mSentCont=mean(onsetDet,na.rm=T),mSentCont.se=std.error(onsetDet,na.rm=T),\n",
    "              mTotLen=mean(totalLen,na.rm=T,mTotLen.se=std.error(totalLen,na.rm=T)))\n",
    "\n",
    "bySpeaker=accPredDat %>%\n",
    "    group_by(speaker) %>%\n",
    "    summarise(mDet=mean(waitForDetOffset,na.rm=T),mDet.se=std.error(waitForDetOffset,na.rm=T),\n",
    "              mNoun=mean(waitForNounOffset,na.rm=T),mNoun.se=std.error(waitForNounOffset,na.rm=T),\n",
    "              mSentCont=mean(onsetDet,na.rm=T),mSentCont.se=std.error(onsetDet,na.rm=T),\n",
    "              mTotLen=mean(totalLen,na.rm=T,mTotLen.se=std.error(totalLen,na.rm=T)))\n",
    "\n",
    "byRelatedness=accPredDat %>%\n",
    "    group_by(relatedness) %>%\n",
    "    summarise(mDet=mean(waitForDetOffset,na.rm=T),mDet.se=std.error(waitForDetOffset,na.rm=T),\n",
    "              mNoun=mean(waitForNounOffset,na.rm=T),mNoun.se=std.error(waitForNounOffset,na.rm=T),\n",
    "              mSentCont=mean(onsetDet,na.rm=T),mSentCont.se=std.error(onsetDet,na.rm=T),\n",
    "              mTotLen=mean(totalLen,na.rm=T,mTotLen.se=std.error(totalLen,na.rm=T)))\n",
    "\n",
    "overall=accPredDat %>%\n",
    "    summarise(mDet=mean(waitForDetOffset,na.rm=T),mDet.se=std.error(waitForDetOffset,na.rm=T),\n",
    "              mNoun=mean(waitForNounOffset,na.rm=T),mNoun.se=std.error(waitForNounOffset,na.rm=T),\n",
    "              mSentCont=mean(onsetDet,na.rm=T),mSentCont.se=std.error(onsetDet,na.rm=T),\n",
    "              mTotLen=mean(totalLen,na.rm=T,mTotLen.se=std.error(totalLen,na.rm=T)))"
   ]
  },
  {
   "cell_type": "code",
   "execution_count": 37,
   "metadata": {
    "collapsed": false
   },
   "outputs": [
    {
     "name": "stdout",
     "output_type": "stream",
     "text": [
      "[1] \"by Speaker & Relatedness\"\n"
     ]
    },
    {
     "data": {
      "text/html": [
       "<table>\n",
       "<thead><tr><th></th><th scope=col>speaker</th><th scope=col>relatedness</th><th scope=col>mDet</th><th scope=col>mDet.se</th><th scope=col>mNoun</th><th scope=col>mNoun.se</th><th scope=col>mSentCont</th><th scope=col>mSentCont.se</th><th scope=col>mTotLen</th></tr></thead>\n",
       "<tbody>\n",
       "\t<tr><th scope=row>1</th><td>Nat</td><td>control</td><td>0.1498667</td><td>0.004208958</td><td>0.4664</td><td>0.006750728</td><td>2.197233</td><td>0.0744431</td><td>5.119233</td></tr>\n",
       "\t<tr><th scope=row>2</th><td>Nat</td><td>related</td><td>0.1331896</td><td>0.001510563</td><td>0.397991</td><td>0.005590208</td><td>3.028883</td><td>0.04530394</td><td>4.619955</td></tr>\n",
       "\t<tr><th scope=row>3</th><td>Nat</td><td>unrelated</td><td>0.1488764</td><td>0.001715435</td><td>0.4269101</td><td>0.00679703</td><td>3.113798</td><td>0.04620857</td><td>4.773928</td></tr>\n",
       "\t<tr><th scope=row>4</th><td>nonNat</td><td>control</td><td>0.229</td><td>0.005600297</td><td>0.5090667</td><td>0.01021548</td><td>2.798567</td><td>0.08290197</td><td>5.756933</td></tr>\n",
       "\t<tr><th scope=row>5</th><td>nonNat</td><td>related</td><td>0.1616004</td><td>0.001949631</td><td>0.4257634</td><td>0.006399794</td><td>3.627806</td><td>0.05195741</td><td>5.407882</td></tr>\n",
       "\t<tr><th scope=row>6</th><td>nonNat</td><td>unrelated</td><td>0.1661403</td><td>0.002102761</td><td>0.4695145</td><td>0.00719165</td><td>3.589657</td><td>0.05296851</td><td>5.430276</td></tr>\n",
       "</tbody>\n",
       "</table>\n"
      ],
      "text/latex": [
       "\\begin{tabular}{r|lllllllll}\n",
       "  & speaker & relatedness & mDet & mDet.se & mNoun & mNoun.se & mSentCont & mSentCont.se & mTotLen\\\\\n",
       "\\hline\n",
       "\t1 & Nat & control & 0.1498667 & 0.004208958 & 0.4664 & 0.006750728 & 2.197233 & 0.0744431 & 5.119233\\\\\n",
       "\t2 & Nat & related & 0.1331896 & 0.001510563 & 0.397991 & 0.005590208 & 3.028883 & 0.04530394 & 4.619955\\\\\n",
       "\t3 & Nat & unrelated & 0.1488764 & 0.001715435 & 0.4269101 & 0.00679703 & 3.113798 & 0.04620857 & 4.773928\\\\\n",
       "\t4 & nonNat & control & 0.229 & 0.005600297 & 0.5090667 & 0.01021548 & 2.798567 & 0.08290197 & 5.756933\\\\\n",
       "\t5 & nonNat & related & 0.1616004 & 0.001949631 & 0.4257634 & 0.006399794 & 3.627806 & 0.05195741 & 5.407882\\\\\n",
       "\t6 & nonNat & unrelated & 0.1661403 & 0.002102761 & 0.4695145 & 0.00719165 & 3.589657 & 0.05296851 & 5.430276\\\\\n",
       "\\end{tabular}\n"
      ],
      "text/plain": [
       "Source: local data frame [6 x 9]\n",
       "Groups: speaker [?]\n",
       "\n",
       "  speaker relatedness      mDet     mDet.se     mNoun    mNoun.se mSentCont\n",
       "   (fctr)      (fctr)     (dbl)       (dbl)     (dbl)       (dbl)     (dbl)\n",
       "1     Nat     control 0.1498667 0.004208958 0.4664000 0.006750728  2.197233\n",
       "2     Nat     related 0.1331896 0.001510563 0.3979910 0.005590208  3.028883\n",
       "3     Nat   unrelated 0.1488764 0.001715435 0.4269101 0.006797030  3.113798\n",
       "4  nonNat     control 0.2290000 0.005600297 0.5090667 0.010215480  2.798567\n",
       "5  nonNat     related 0.1616004 0.001949631 0.4257634 0.006399794  3.627806\n",
       "6  nonNat   unrelated 0.1661403 0.002102761 0.4695145 0.007191650  3.589657\n",
       "Variables not shown: mSentCont.se (dbl), mTotLen (dbl)"
      ]
     },
     "execution_count": 37,
     "metadata": {},
     "output_type": "execute_result"
    },
    {
     "name": "stdout",
     "output_type": "stream",
     "text": [
      "[1] \"by Speaker\"\n"
     ]
    },
    {
     "data": {
      "text/html": [
       "<table>\n",
       "<thead><tr><th></th><th scope=col>speaker</th><th scope=col>mDet</th><th scope=col>mDet.se</th><th scope=col>mNoun</th><th scope=col>mNoun.se</th><th scope=col>mSentCont</th><th scope=col>mSentCont.se</th><th scope=col>mTotLen</th></tr></thead>\n",
       "<tbody>\n",
       "\t<tr><th scope=row>1</th><td>Nat</td><td>0.1440157</td><td>0.001618383</td><td>0.4306166</td><td>0.003776174</td><td>2.777422</td><td>0.03485522</td><td>4.839083</td></tr>\n",
       "\t<tr><th scope=row>2</th><td>nonNat</td><td>0.1856303</td><td>0.002260345</td><td>0.4681767</td><td>0.004769845</td><td>3.338061</td><td>0.03852293</td><td>5.531956</td></tr>\n",
       "</tbody>\n",
       "</table>\n"
      ],
      "text/latex": [
       "\\begin{tabular}{r|llllllll}\n",
       "  & speaker & mDet & mDet.se & mNoun & mNoun.se & mSentCont & mSentCont.se & mTotLen\\\\\n",
       "\\hline\n",
       "\t1 & Nat & 0.1440157 & 0.001618383 & 0.4306166 & 0.003776174 & 2.777422 & 0.03485522 & 4.839083\\\\\n",
       "\t2 & nonNat & 0.1856303 & 0.002260345 & 0.4681767 & 0.004769845 & 3.338061 & 0.03852293 & 5.531956\\\\\n",
       "\\end{tabular}\n"
      ],
      "text/plain": [
       "# A tibble: 2 x 8\n",
       "  speaker      mDet     mDet.se     mNoun    mNoun.se mSentCont mSentCont.se\n",
       "   <fctr>     <dbl>       <dbl>     <dbl>       <dbl>     <dbl>        <dbl>\n",
       "1     Nat 0.1440157 0.001618383 0.4306166 0.003776174  2.777422   0.03485522\n",
       "2  nonNat 0.1856303 0.002260345 0.4681767 0.004769845  3.338061   0.03852293\n",
       "# ... with 1 more variables: mTotLen <dbl>"
      ]
     },
     "execution_count": 37,
     "metadata": {},
     "output_type": "execute_result"
    },
    {
     "name": "stdout",
     "output_type": "stream",
     "text": [
      "[1] \"by Relatedness\"\n"
     ]
    },
    {
     "data": {
      "text/html": [
       "<table>\n",
       "<thead><tr><th></th><th scope=col>relatedness</th><th scope=col>mDet</th><th scope=col>mDet.se</th><th scope=col>mNoun</th><th scope=col>mNoun.se</th><th scope=col>mSentCont</th><th scope=col>mSentCont.se</th><th scope=col>mTotLen</th></tr></thead>\n",
       "<tbody>\n",
       "\t<tr><th scope=row>1</th><td>control</td><td>0.1894333</td><td>0.003741312</td><td>0.4877333</td><td>0.006160084</td><td>2.4979</td><td>0.05657502</td><td>5.438083</td></tr>\n",
       "\t<tr><th scope=row>2</th><td>related</td><td>0.1474747</td><td>0.001322893</td><td>0.4119551</td><td>0.004275058</td><td>3.330025</td><td>0.03590656</td><td>5.016129</td></tr>\n",
       "\t<tr><th scope=row>3</th><td>unrelated</td><td>0.157547</td><td>0.001387732</td><td>0.4483076</td><td>0.004997343</td><td>3.352792</td><td>0.03603828</td><td>5.10357</td></tr>\n",
       "</tbody>\n",
       "</table>\n"
      ],
      "text/latex": [
       "\\begin{tabular}{r|llllllll}\n",
       "  & relatedness & mDet & mDet.se & mNoun & mNoun.se & mSentCont & mSentCont.se & mTotLen\\\\\n",
       "\\hline\n",
       "\t1 & control & 0.1894333 & 0.003741312 & 0.4877333 & 0.006160084 & 2.4979 & 0.05657502 & 5.438083\\\\\n",
       "\t2 & related & 0.1474747 & 0.001322893 & 0.4119551 & 0.004275058 & 3.330025 & 0.03590656 & 5.016129\\\\\n",
       "\t3 & unrelated & 0.157547 & 0.001387732 & 0.4483076 & 0.004997343 & 3.352792 & 0.03603828 & 5.10357\\\\\n",
       "\\end{tabular}\n"
      ],
      "text/plain": [
       "# A tibble: 3 x 8\n",
       "  relatedness      mDet     mDet.se     mNoun    mNoun.se mSentCont\n",
       "       <fctr>     <dbl>       <dbl>     <dbl>       <dbl>     <dbl>\n",
       "1     control 0.1894333 0.003741312 0.4877333 0.006160084  2.497900\n",
       "2     related 0.1474747 0.001322893 0.4119551 0.004275058  3.330025\n",
       "3   unrelated 0.1575470 0.001387732 0.4483076 0.004997343  3.352792\n",
       "# ... with 2 more variables: mSentCont.se <dbl>, mTotLen <dbl>"
      ]
     },
     "execution_count": 37,
     "metadata": {},
     "output_type": "execute_result"
    },
    {
     "name": "stdout",
     "output_type": "stream",
     "text": [
      "[1] \"all conditions\"\n"
     ]
    },
    {
     "data": {
      "text/html": [
       "<table>\n",
       "<thead><tr><th></th><th scope=col>mDet</th><th scope=col>mDet.se</th><th scope=col>mNoun</th><th scope=col>mNoun.se</th><th scope=col>mSentCont</th><th scope=col>mSentCont.se</th><th scope=col>mTotLen</th></tr></thead>\n",
       "<tbody>\n",
       "\t<tr><th scope=row>1</th><td>0.1648927</td><td>0.001448054</td><td>0.4494596</td><td>0.00306513</td><td>3.058681</td><td>0.02653695</td><td>5.186681</td></tr>\n",
       "</tbody>\n",
       "</table>\n"
      ],
      "text/latex": [
       "\\begin{tabular}{r|lllllll}\n",
       "  & mDet & mDet.se & mNoun & mNoun.se & mSentCont & mSentCont.se & mTotLen\\\\\n",
       "\\hline\n",
       "\t1 & 0.1648927 & 0.001448054 & 0.4494596 & 0.00306513 & 3.058681 & 0.02653695 & 5.186681\\\\\n",
       "\\end{tabular}\n"
      ],
      "text/plain": [
       "       mDet     mDet.se     mNoun   mNoun.se mSentCont mSentCont.se  mTotLen\n",
       "1 0.1648927 0.001448054 0.4494596 0.00306513  3.058681   0.02653695 5.186681"
      ]
     },
     "execution_count": 37,
     "metadata": {},
     "output_type": "execute_result"
    }
   ],
   "source": [
    "print(\"by Speaker & Relatedness\")\n",
    "bySpeakerRelatedness\n",
    "print(\"by Speaker\")\n",
    "bySpeaker\n",
    "print(\"by Relatedness\")\n",
    "byRelatedness\n",
    "print(\"all conditions\")\n",
    "overall"
   ]
  },
  {
   "cell_type": "code",
   "execution_count": 40,
   "metadata": {
    "collapsed": false
   },
   "outputs": [],
   "source": [
    "contLen=lmer(onsetDet~relatedness+speaker+(1|subjCode),data=filter(accPredDat,relatedness!=\"control\"),REML=F)\n",
    "detLen=lmer(waitForDetOffset~relatedness+(1|subjCode),data=filter(accPredDat,relatedness!=\"control\"),REML=F)"
   ]
  },
  {
   "cell_type": "code",
   "execution_count": 41,
   "metadata": {
    "collapsed": false
   },
   "outputs": [
    {
     "data": {
      "text/plain": [
       "Linear mixed model fit by maximum likelihood t-tests use Satterthwaite\n",
       "  approximations to degrees of freedom [lmerMod]\n",
       "Formula: onsetDet ~ relatedness + speaker + (1 | subjCode)\n",
       "   Data: filter(accPredDat, relatedness != \"control\")\n",
       "\n",
       "     AIC      BIC   logLik deviance df.resid \n",
       "  5215.4   5242.8  -2602.7   5205.4     1780 \n",
       "\n",
       "Scaled residuals: \n",
       "    Min      1Q  Median      3Q     Max \n",
       "-1.8840 -0.7375 -0.1383  0.5345  3.2972 \n",
       "\n",
       "Random effects:\n",
       " Groups   Name        Variance Std.Dev.\n",
       " subjCode (Intercept) 0.000    0.00    \n",
       " Residual             1.081    1.04    \n",
       "Number of obs: 1785, groups:  subjCode, 15\n",
       "\n",
       "Fixed effects:\n",
       "                      Estimate Std. Error        df t value Pr(>|t|)    \n",
       "(Intercept)          3.060e+00  4.274e-02 1.785e+03  71.597   <2e-16 ***\n",
       "relatednessunrelated 2.307e-02  4.923e-02 1.785e+03   0.469    0.639    \n",
       "speakernonNat        5.373e-01  4.923e-02 1.785e+03  10.914   <2e-16 ***\n",
       "---\n",
       "Signif. codes:  0 ‘***’ 0.001 ‘**’ 0.01 ‘*’ 0.05 ‘.’ 0.1 ‘ ’ 1\n",
       "\n",
       "Correlation of Fixed Effects:\n",
       "            (Intr) rltdns\n",
       "rltdnssnrlt -0.577       \n",
       "speakernnNt -0.579  0.001"
      ]
     },
     "execution_count": 41,
     "metadata": {},
     "output_type": "execute_result"
    },
    {
     "data": {
      "text/plain": [
       "Linear mixed model fit by maximum likelihood t-tests use Satterthwaite\n",
       "  approximations to degrees of freedom [lmerMod]\n",
       "Formula: waitForDetOffset ~ relatedness + (1 | subjCode)\n",
       "   Data: filter(accPredDat, relatedness != \"control\")\n",
       "\n",
       "     AIC      BIC   logLik deviance df.resid \n",
       " -6375.5  -6353.6   3191.8  -6383.5     1781 \n",
       "\n",
       "Scaled residuals: \n",
       "    Min      1Q  Median      3Q     Max \n",
       "-2.3542 -0.6735 -0.1232  0.6129  4.0302 \n",
       "\n",
       "Random effects:\n",
       " Groups   Name        Variance  Std.Dev.\n",
       " subjCode (Intercept) 3.946e-06 0.001987\n",
       " Residual             1.635e-03 0.040433\n",
       "Number of obs: 1785, groups:  subjCode, 15\n",
       "\n",
       "Fixed effects:\n",
       "                      Estimate Std. Error        df t value Pr(>|t|)    \n",
       "(Intercept)          1.475e-01  1.448e-03 4.730e+01 101.816  < 2e-16 ***\n",
       "relatednessunrelated 1.008e-02  1.914e-03 1.770e+03   5.265 1.57e-07 ***\n",
       "---\n",
       "Signif. codes:  0 ‘***’ 0.001 ‘**’ 0.01 ‘*’ 0.05 ‘.’ 0.1 ‘ ’ 1\n",
       "\n",
       "Correlation of Fixed Effects:\n",
       "            (Intr)\n",
       "rltdnssnrlt -0.662"
      ]
     },
     "execution_count": 41,
     "metadata": {},
     "output_type": "execute_result"
    }
   ],
   "source": [
    "summary(contLen)\n",
    "summary(detLen)\n"
   ]
  },
  {
   "cell_type": "markdown",
   "metadata": {},
   "source": [
    "## Lexical Recall Data\n"
   ]
  }
 ],
 "metadata": {
  "hide_input": false,
  "kernelspec": {
   "display_name": "R",
   "language": "R",
   "name": "ir"
  },
  "language_info": {
   "codemirror_mode": "r",
   "file_extension": ".r",
   "mimetype": "text/x-r-source",
   "name": "R",
   "pygments_lexer": "r",
   "version": "3.2.2"
  }
 },
 "nbformat": 4,
 "nbformat_minor": 0
}
