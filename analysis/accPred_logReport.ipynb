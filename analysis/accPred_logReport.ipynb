{
 "cells": [
  {
   "cell_type": "markdown",
   "metadata": {},
   "source": [
    "## AccPred: Analysis Log/Report"
   ]
  },
  {
   "cell_type": "code",
   "execution_count": 1,
   "metadata": {
    "collapsed": false
   },
   "outputs": [
    {
     "name": "stderr",
     "output_type": "stream",
     "text": [
      "\n",
      "Attaching package: ‘dplyr’\n",
      "\n",
      "The following objects are masked from ‘package:stats’:\n",
      "\n",
      "    filter, lag\n",
      "\n",
      "The following objects are masked from ‘package:base’:\n",
      "\n",
      "    intersect, setdiff, setequal, union\n",
      "\n",
      "Warning message:\n",
      ": package ‘tidyr’ was built under R version 3.2.5Loading required package: car\n",
      "Loading required package: Matrix\n",
      "\n",
      "Attaching package: ‘Matrix’\n",
      "\n",
      "The following object is masked from ‘package:tidyr’:\n",
      "\n",
      "    expand\n",
      "\n",
      "Loading required package: lme4\n",
      "\n",
      "Attaching package: ‘lmerTest’\n",
      "\n",
      "The following object is masked from ‘package:lme4’:\n",
      "\n",
      "    lmer\n",
      "\n",
      "The following object is masked from ‘package:stats’:\n",
      "\n",
      "    step\n",
      "\n"
     ]
    }
   ],
   "source": [
    "library(dplyr)\n",
    "library(tidyr)\n",
    "library(lmSupport)\n",
    "library(lmerTest)\n",
    "library(ez)"
   ]
  },
  {
   "cell_type": "markdown",
   "metadata": {},
   "source": [
    "## Prepare Data"
   ]
  },
  {
   "cell_type": "code",
   "execution_count": 2,
   "metadata": {
    "collapsed": false
   },
   "outputs": [
    {
     "name": "stderr",
     "output_type": "stream",
     "text": [
      "Warning message:\n",
      ": Too few values at 360 locations: 49, 50, 51, 52, 53, 54, 55, 56, 57, 58, 59, 60, 109, 110, 111, 112, 113, 114, 115, 116, ..."
     ]
    },
    {
     "data": {
      "text/html": [
       "<table>\n",
       "<thead><tr><th></th><th scope=col>meanAmp</th><th scope=col>chindex</th><th scope=col>chlabel</th><th scope=col>bini</th><th scope=col>ppt</th><th scope=col>comp</th><th scope=col>cond</th><th scope=col>nativeness</th><th scope=col>expectedness</th></tr></thead>\n",
       "<tbody>\n",
       "\t<tr><th scope=row>1</th><td>-3.534</td><td>4</td><td>F1</td><td>1</td><td>09_withDiff</td><td>PMN</td><td>Native Expected</td><td>Native</td><td>Expected</td></tr>\n",
       "\t<tr><th scope=row>2</th><td>-2.724</td><td>11</td><td>FC1</td><td>1</td><td>09_withDiff</td><td>PMN</td><td>Native Expected</td><td>Native</td><td>Expected</td></tr>\n",
       "</tbody>\n",
       "</table>\n"
      ],
      "text/latex": [
       "\\begin{tabular}{r|lllllllll}\n",
       "  & meanAmp & chindex & chlabel & bini & ppt & comp & cond & nativeness & expectedness\\\\\n",
       "\\hline\n",
       "\t1 & -3.534 & 4 & F1 & 1 & 09_withDiff & PMN & Native Expected & Native & Expected\\\\\n",
       "\t2 & -2.724 & 11 & FC1 & 1 & 09_withDiff & PMN & Native Expected & Native & Expected\\\\\n",
       "\\end{tabular}\n"
      ],
      "text/plain": [
       "  meanAmp chindex chlabel bini         ppt comp            cond nativeness\n",
       "1  -3.534       4      F1    1 09_withDiff  PMN Native Expected     Native\n",
       "2  -2.724      11     FC1    1 09_withDiff  PMN Native Expected     Native\n",
       "  expectedness\n",
       "1     Expected\n",
       "2     Expected"
      ]
     },
     "execution_count": 2,
     "metadata": {},
     "output_type": "execute_result"
    }
   ],
   "source": [
    "dat1=read.table('accPred_PMN_MeanAmps.txt',header=T)\n",
    "dat1['comp']=\"PMN\"\n",
    "dat2=read.table('accPred_N4_MeanAmps.txt',header=T)\n",
    "dat2['comp']=\"N4\"\n",
    "\n",
    "dat=rbind(dat1,dat2)\n",
    "dat['cond']=varRecode(dat$bini,c(1,2,3,4,5),c('Native Expected','Native Unexpected',\n",
    "                                          'Non-native Expected','Non-native Unexpected','Control'))\n",
    "dat=rename(dat,meanAmp=value)\n",
    "dat=rename(dat,ppt=ERPset)\n",
    "dat=separate(data=dat, col=cond,into=c('nativeness','expectedness'),sep=' ',remove=FALSE)\n",
    "dat$nativeness=as.factor(dat$nativeness)\n",
    "dat$expectedness=as.factor(dat$expectedness)\n",
    "dat$comp=as.factor(dat$comp)\n",
    "dat$cond=as.factor(dat$cond)\n",
    "dat$chindex=as.factor(dat$chindex)\n",
    "\n",
    "head(dat,2)"
   ]
  },
  {
   "cell_type": "code",
   "execution_count": 3,
   "metadata": {
    "collapsed": false
   },
   "outputs": [
    {
     "data": {
      "text/html": [
       "<table>\n",
       "<thead><tr><th></th><th scope=col>meanAmp</th><th scope=col>chindex</th><th scope=col>chlabel</th><th scope=col>bini</th><th scope=col>ppt</th><th scope=col>comp</th><th scope=col>cond</th><th scope=col>nativeness</th><th scope=col>expectedness</th></tr></thead>\n",
       "<tbody>\n",
       "\t<tr><th scope=row>1</th><td>-3.534</td><td>4</td><td>F1</td><td>1</td><td>09_withDiff</td><td>PMN</td><td>Native Expected</td><td>Native</td><td>Expected</td></tr>\n",
       "\t<tr><th scope=row>2</th><td>-2.724</td><td>11</td><td>FC1</td><td>1</td><td>09_withDiff</td><td>PMN</td><td>Native Expected</td><td>Native</td><td>Expected</td></tr>\n",
       "\t<tr><th scope=row>3</th><td>-1.779</td><td>12</td><td>C1</td><td>1</td><td>09_withDiff</td><td>PMN</td><td>Native Expected</td><td>Native</td><td>Expected</td></tr>\n",
       "\t<tr><th scope=row>4</th><td>-1.314</td><td>19</td><td>CP1</td><td>1</td><td>09_withDiff</td><td>PMN</td><td>Native Expected</td><td>Native</td><td>Expected</td></tr>\n",
       "\t<tr><th scope=row>5</th><td>-1.061</td><td>32</td><td>CPz</td><td>1</td><td>09_withDiff</td><td>PMN</td><td>Native Expected</td><td>Native</td><td>Expected</td></tr>\n",
       "\t<tr><th scope=row>6</th><td>-3.432</td><td>38</td><td>Fz</td><td>1</td><td>09_withDiff</td><td>PMN</td><td>Native Expected</td><td>Native</td><td>Expected</td></tr>\n",
       "\t<tr><th scope=row>7</th><td>-3.35</td><td>39</td><td>F2</td><td>1</td><td>09_withDiff</td><td>PMN</td><td>Native Expected</td><td>Native</td><td>Expected</td></tr>\n",
       "\t<tr><th scope=row>8</th><td>-3.248</td><td>46</td><td>FC2</td><td>1</td><td>09_withDiff</td><td>PMN</td><td>Native Expected</td><td>Native</td><td>Expected</td></tr>\n",
       "\t<tr><th scope=row>9</th><td>-2.251</td><td>47</td><td>FCz</td><td>1</td><td>09_withDiff</td><td>PMN</td><td>Native Expected</td><td>Native</td><td>Expected</td></tr>\n",
       "\t<tr><th scope=row>10</th><td>-1.9</td><td>48</td><td>Cz</td><td>1</td><td>09_withDiff</td><td>PMN</td><td>Native Expected</td><td>Native</td><td>Expected</td></tr>\n",
       "\t<tr><th scope=row>11</th><td>-2.024</td><td>49</td><td>C2</td><td>1</td><td>09_withDiff</td><td>PMN</td><td>Native Expected</td><td>Native</td><td>Expected</td></tr>\n",
       "\t<tr><th scope=row>12</th><td>-1.013</td><td>56</td><td>CP2</td><td>1</td><td>09_withDiff</td><td>PMN</td><td>Native Expected</td><td>Native</td><td>Expected</td></tr>\n",
       "</tbody>\n",
       "</table>\n"
      ],
      "text/latex": [
       "\\begin{tabular}{r|lllllllll}\n",
       "  & meanAmp & chindex & chlabel & bini & ppt & comp & cond & nativeness & expectedness\\\\\n",
       "\\hline\n",
       "\t1 & -3.534 & 4 & F1 & 1 & 09_withDiff & PMN & Native Expected & Native & Expected\\\\\n",
       "\t2 & -2.724 & 11 & FC1 & 1 & 09_withDiff & PMN & Native Expected & Native & Expected\\\\\n",
       "\t3 & -1.779 & 12 & C1 & 1 & 09_withDiff & PMN & Native Expected & Native & Expected\\\\\n",
       "\t4 & -1.314 & 19 & CP1 & 1 & 09_withDiff & PMN & Native Expected & Native & Expected\\\\\n",
       "\t5 & -1.061 & 32 & CPz & 1 & 09_withDiff & PMN & Native Expected & Native & Expected\\\\\n",
       "\t6 & -3.432 & 38 & Fz & 1 & 09_withDiff & PMN & Native Expected & Native & Expected\\\\\n",
       "\t7 & -3.35 & 39 & F2 & 1 & 09_withDiff & PMN & Native Expected & Native & Expected\\\\\n",
       "\t8 & -3.248 & 46 & FC2 & 1 & 09_withDiff & PMN & Native Expected & Native & Expected\\\\\n",
       "\t9 & -2.251 & 47 & FCz & 1 & 09_withDiff & PMN & Native Expected & Native & Expected\\\\\n",
       "\t10 & -1.9 & 48 & Cz & 1 & 09_withDiff & PMN & Native Expected & Native & Expected\\\\\n",
       "\t11 & -2.024 & 49 & C2 & 1 & 09_withDiff & PMN & Native Expected & Native & Expected\\\\\n",
       "\t12 & -1.013 & 56 & CP2 & 1 & 09_withDiff & PMN & Native Expected & Native & Expected\\\\\n",
       "\\end{tabular}\n"
      ],
      "text/plain": [
       "   meanAmp chindex chlabel bini         ppt comp            cond nativeness\n",
       "1   -3.534       4      F1    1 09_withDiff  PMN Native Expected     Native\n",
       "2   -2.724      11     FC1    1 09_withDiff  PMN Native Expected     Native\n",
       "3   -1.779      12      C1    1 09_withDiff  PMN Native Expected     Native\n",
       "4   -1.314      19     CP1    1 09_withDiff  PMN Native Expected     Native\n",
       "5   -1.061      32     CPz    1 09_withDiff  PMN Native Expected     Native\n",
       "6   -3.432      38      Fz    1 09_withDiff  PMN Native Expected     Native\n",
       "7   -3.350      39      F2    1 09_withDiff  PMN Native Expected     Native\n",
       "8   -3.248      46     FC2    1 09_withDiff  PMN Native Expected     Native\n",
       "9   -2.251      47     FCz    1 09_withDiff  PMN Native Expected     Native\n",
       "10  -1.900      48      Cz    1 09_withDiff  PMN Native Expected     Native\n",
       "11  -2.024      49      C2    1 09_withDiff  PMN Native Expected     Native\n",
       "12  -1.013      56     CP2    1 09_withDiff  PMN Native Expected     Native\n",
       "   expectedness\n",
       "1      Expected\n",
       "2      Expected\n",
       "3      Expected\n",
       "4      Expected\n",
       "5      Expected\n",
       "6      Expected\n",
       "7      Expected\n",
       "8      Expected\n",
       "9      Expected\n",
       "10     Expected\n",
       "11     Expected\n",
       "12     Expected"
      ]
     },
     "execution_count": 3,
     "metadata": {},
     "output_type": "execute_result"
    }
   ],
   "source": [
    "head(arrange(dat,-chindex),12)"
   ]
  },
  {
   "cell_type": "code",
   "execution_count": null,
   "metadata": {
    "collapsed": true
   },
   "outputs": [],
   "source": [
    "##ROI Derivation"
   ]
  },
  {
   "cell_type": "markdown",
   "metadata": {},
   "source": [
    "## Analysis\n",
    "### Data Summaries"
   ]
  },
  {
   "cell_type": "code",
   "execution_count": 17,
   "metadata": {
    "collapsed": false
   },
   "outputs": [
    {
     "data": {
      "text/html": [
       "<table>\n",
       "<thead><tr><th></th><th scope=col>cond</th><th scope=col>meanAmp</th></tr></thead>\n",
       "<tbody>\n",
       "\t<tr><th scope=row>1</th><td>Control</td><td>-0.007263333</td></tr>\n",
       "\t<tr><th scope=row>2</th><td>Native Expected</td><td>0.1691117</td></tr>\n",
       "\t<tr><th scope=row>3</th><td>Native Unexpected</td><td>-0.4479347</td></tr>\n",
       "\t<tr><th scope=row>4</th><td>Non-native Expected</td><td>-0.09837056</td></tr>\n",
       "\t<tr><th scope=row>5</th><td>Non-native Unexpected</td><td>-0.7753831</td></tr>\n",
       "</tbody>\n",
       "</table>\n"
      ],
      "text/latex": [
       "\\begin{tabular}{r|ll}\n",
       "  & cond & meanAmp\\\\\n",
       "\\hline\n",
       "\t1 & Control & -0.007263333\\\\\n",
       "\t2 & Native Expected & 0.1691117\\\\\n",
       "\t3 & Native Unexpected & -0.4479347\\\\\n",
       "\t4 & Non-native Expected & -0.09837056\\\\\n",
       "\t5 & Non-native Unexpected & -0.7753831\\\\\n",
       "\\end{tabular}\n"
      ],
      "text/plain": [
       "Source: local data frame [5 x 2]\n",
       "\n",
       "                   cond      meanAmp\n",
       "                  (chr)        (dbl)\n",
       "1               Control -0.007263333\n",
       "2       Native Expected  0.169111667\n",
       "3     Native Unexpected -0.447934722\n",
       "4   Non-native Expected -0.098370556\n",
       "5 Non-native Unexpected -0.775383056"
      ]
     },
     "execution_count": 17,
     "metadata": {},
     "output_type": "execute_result"
    }
   ],
   "source": [
    "grandMeanByCond=dat %>% \n",
    "    group_by(cond) %>%\n",
    "    summarise(meanAmp=mean(meanAmp))\n",
    "\n",
    "head(grandMeanByCond)"
   ]
  },
  {
   "cell_type": "code",
   "execution_count": 4,
   "metadata": {
    "collapsed": false
   },
   "outputs": [
    {
     "data": {
      "text/plain": [
       "Linear mixed model fit by maximum likelihood t-tests use Satterthwaite\n",
       "  approximations to degrees of freedom [lmerMod]\n",
       "Formula: meanAmp ~ nativeness * expectedness + (1 | ppt)\n",
       "   Data: subset(dat, cond != \"Control\")\n",
       "\n",
       "     AIC      BIC   logLik deviance df.resid \n",
       "  5867.5   5899.1  -2927.8   5855.5     1434 \n",
       "\n",
       "Scaled residuals: \n",
       "    Min      1Q  Median      3Q     Max \n",
       "-3.6445 -0.6316  0.0493  0.6739  3.4031 \n",
       "\n",
       "Random effects:\n",
       " Groups   Name        Variance Std.Dev.\n",
       " ppt      (Intercept) 0.5878   0.7667  \n",
       " Residual             3.3146   1.8206  \n",
       "Number of obs: 1440, groups:  ppt, 15\n",
       "\n",
       "Fixed effects:\n",
       "                                              Estimate Std. Error         df\n",
       "(Intercept)                                   -0.04338    0.21999   20.40000\n",
       "nativenessNon-native                          -0.14716    0.13570 1425.00000\n",
       "expectednessUnexpected                        -0.62745    0.13570 1425.00000\n",
       "nativenessNon-native:expectednessUnexpected   -0.07236    0.19191 1425.00000\n",
       "                                            t value Pr(>|t|)    \n",
       "(Intercept)                                  -0.197    0.846    \n",
       "nativenessNon-native                         -1.084    0.278    \n",
       "expectednessUnexpected                       -4.624 4.11e-06 ***\n",
       "nativenessNon-native:expectednessUnexpected  -0.377    0.706    \n",
       "---\n",
       "Signif. codes:  0 ‘***’ 0.001 ‘**’ 0.01 ‘*’ 0.05 ‘.’ 0.1 ‘ ’ 1\n",
       "\n",
       "Correlation of Fixed Effects:\n",
       "            (Intr) ntvnN- expctU\n",
       "ntvnssNn-nt -0.308              \n",
       "expctdnssUn -0.308  0.500       \n",
       "ntvnssNn-:U  0.218 -0.707 -0.707"
      ]
     },
     "execution_count": 4,
     "metadata": {},
     "output_type": "execute_result"
    }
   ],
   "source": [
    "mod=lmer(meanAmp~nativeness*expectedness+(1|ppt),data=subset(dat,cond!=\"Control\"),REML=F)\n",
    "summary(mod)"
   ]
  },
  {
   "cell_type": "code",
   "execution_count": 8,
   "metadata": {
    "collapsed": false
   },
   "outputs": [],
   "source": [
    "pmn=filter(dat, comp==\"PMN\")\n",
    "pmn=filter(pmn,cond!=\"Control\")\n",
    "pmnROI=filter(pmn,chindex%in%c(12,48,11,47,19,32))"
   ]
  },
  {
   "cell_type": "code",
   "execution_count": 34,
   "metadata": {
    "collapsed": false
   },
   "outputs": [
    {
     "data": {
      "text/plain": [
       "Linear mixed model fit by maximum likelihood t-tests use Satterthwaite\n",
       "  approximations to degrees of freedom [lmerMod]\n",
       "Formula: \n",
       "meanAmp ~ nativeness * expectedness + (1 + nativeness + expectedness |  \n",
       "    ppt)\n",
       "   Data: pmnROI\n",
       "\n",
       "     AIC      BIC   logLik deviance df.resid \n",
       "  1083.4   1126.1   -530.7   1061.4      349 \n",
       "\n",
       "Scaled residuals: \n",
       "    Min      1Q  Median      3Q     Max \n",
       "-2.5534 -0.6483 -0.0306  0.5641  3.2836 \n",
       "\n",
       "Random effects:\n",
       " Groups   Name                   Variance Std.Dev. Corr       \n",
       " ppt      (Intercept)            1.2977   1.1392              \n",
       "          nativenessNon-native   1.2896   1.1356   -0.67      \n",
       "          expectednessUnexpected 0.8795   0.9378   -0.85  0.48\n",
       " Residual                        0.8629   0.9289              \n",
       "Number of obs: 360, groups:  ppt, 15\n",
       "\n",
       "Fixed effects:\n",
       "                                            Estimate Std. Error       df\n",
       "(Intercept)                                   1.2313     0.3100  15.7800\n",
       "nativenessNon-native                         -0.7723     0.3243  18.1500\n",
       "expectednessUnexpected                       -0.9729     0.2789  19.4900\n",
       "nativenessNon-native:expectednessUnexpected   0.4394     0.1958 315.0000\n",
       "                                            t value Pr(>|t|)   \n",
       "(Intercept)                                   3.972  0.00112 **\n",
       "nativenessNon-native                         -2.382  0.02838 * \n",
       "expectednessUnexpected                       -3.488  0.00239 **\n",
       "nativenessNon-native:expectednessUnexpected   2.244  0.02553 * \n",
       "---\n",
       "Signif. codes:  0 ‘***’ 0.001 ‘**’ 0.01 ‘*’ 0.05 ‘.’ 0.1 ‘ ’ 1\n",
       "\n",
       "Correlation of Fixed Effects:\n",
       "            (Intr) ntvnN- expctU\n",
       "ntvnssNn-nt -0.666              \n",
       "expctdnssUn -0.810  0.479       \n",
       "ntvnssNn-:U  0.158 -0.302 -0.351"
      ]
     },
     "execution_count": 34,
     "metadata": {},
     "output_type": "execute_result"
    }
   ],
   "source": [
    "pmnMod=lmer(meanAmp~nativeness*expectedness+(1+nativeness+expectedness|ppt),data=pmnROI,REML=F)\n",
    "summary(pmnMod)"
   ]
  },
  {
   "cell_type": "code",
   "execution_count": 12,
   "metadata": {
    "collapsed": true
   },
   "outputs": [],
   "source": [
    "n4=filter(dat, comp==\"N4\")\n",
    "n4=filter(n4,cond!=\"Control\")\n",
    "n4ROI=filter(n4,chindex%in%c(12,48,11,47,19,32))"
   ]
  },
  {
   "cell_type": "code",
   "execution_count": 33,
   "metadata": {
    "collapsed": false
   },
   "outputs": [
    {
     "data": {
      "text/plain": [
       "Linear mixed model fit by maximum likelihood t-tests use Satterthwaite\n",
       "  approximations to degrees of freedom [lmerMod]\n",
       "Formula: meanAmp ~ nativeness * expectedness + (1 + nativeness | ppt)\n",
       "   Data: n4ROI\n",
       "\n",
       "     AIC      BIC   logLik deviance df.resid \n",
       "  1317.5   1348.6   -650.7   1301.5      352 \n",
       "\n",
       "Scaled residuals: \n",
       "     Min       1Q   Median       3Q      Max \n",
       "-2.53165 -0.63256 -0.02299  0.66736  2.45244 \n",
       "\n",
       "Random effects:\n",
       " Groups   Name                 Variance Std.Dev. Corr \n",
       " ppt      (Intercept)          1.537    1.240         \n",
       "          nativenessNon-native 1.086    1.042    -0.56\n",
       " Residual                      1.824    1.351         \n",
       "Number of obs: 360, groups:  ppt, 15\n",
       "\n",
       "Fixed effects:\n",
       "                                            Estimate Std. Error       df\n",
       "(Intercept)                                  -0.7434     0.3503  17.8000\n",
       "nativenessNon-native                         -0.1278     0.3361  22.2000\n",
       "expectednessUnexpected                       -0.5278     0.2013 330.0000\n",
       "nativenessNon-native:expectednessUnexpected  -0.2037     0.2847 330.0000\n",
       "                                            t value Pr(>|t|)   \n",
       "(Intercept)                                  -2.122  0.04812 * \n",
       "nativenessNon-native                         -0.380  0.70745   \n",
       "expectednessUnexpected                       -2.622  0.00916 **\n",
       "nativenessNon-native:expectednessUnexpected  -0.715  0.47496   \n",
       "---\n",
       "Signif. codes:  0 ‘***’ 0.001 ‘**’ 0.01 ‘*’ 0.05 ‘.’ 0.1 ‘ ’ 1\n",
       "\n",
       "Correlation of Fixed Effects:\n",
       "            (Intr) ntvnN- expctU\n",
       "ntvnssNn-nt -0.580              \n",
       "expctdnssUn -0.287  0.300       \n",
       "ntvnssNn-:U  0.203 -0.424 -0.707"
      ]
     },
     "execution_count": 33,
     "metadata": {},
     "output_type": "execute_result"
    }
   ],
   "source": [
    "n4Mod=lmer(meanAmp~nativeness*expectedness+(1+nativeness|ppt),data=n4ROI,REML=F)\n",
    "summary(n4Mod)"
   ]
  },
  {
   "cell_type": "code",
   "execution_count": 38,
   "metadata": {
    "collapsed": false
   },
   "outputs": [
    {
     "name": "stderr",
     "output_type": "stream",
     "text": [
      "Warning message:\n",
      "In checkConv(attr(opt, \"derivs\"), opt$par, ctrl = control$checkConv, : unable to evaluate scaled gradientWarning message:\n",
      "In checkConv(attr(opt, \"derivs\"), opt$par, ctrl = control$checkConv, : Model failed to converge: degenerate  Hessian with 4 negative eigenvalues"
     ]
    }
   ],
   "source": [
    "m1=lmer(meanAmp~nativeness*expectedness+(1|ppt),data=pmnROI,REML=F)\n",
    "m2=lmer(meanAmp~nativeness*expectedness+(1+expectedness|ppt),data=pmnROI,REML=F)\n",
    "m3=lmer(meanAmp~nativeness*expectedness+(1+nativeness|ppt),data=pmnROI,REML=F)\n",
    "m4=lmer(meanAmp~nativeness*expectedness+(1+nativeness+expectedness|ppt),data=pmnROI,REML=F)\n",
    "m5=lmer(meanAmp~nativeness*expectedness+(1+nativeness:expectedness|ppt),data=pmnROI,REML=F)"
   ]
  },
  {
   "cell_type": "code",
   "execution_count": 36,
   "metadata": {
    "collapsed": false
   },
   "outputs": [
    {
     "data": {
      "text/html": [
       "<table>\n",
       "<thead><tr><th></th><th scope=col>Df</th><th scope=col>AIC</th><th scope=col>BIC</th><th scope=col>logLik</th><th scope=col>deviance</th><th scope=col>Chisq</th><th scope=col>Chi Df</th><th scope=col>Pr(>Chisq)</th></tr></thead>\n",
       "<tbody>\n",
       "\t<tr><th scope=row>object</th><td>6</td><td>1189.125</td><td>1212.442</td><td>-588.5626</td><td>1177.125</td><td>NA</td><td>NA</td><td>NA</td></tr>\n",
       "\t<tr><th scope=row>..1</th><td>8</td><td>1159.421</td><td>1190.51</td><td>-571.7104</td><td>1143.421</td><td>33.70422</td><td>2</td><td>4.79979e-08</td></tr>\n",
       "\t<tr><th scope=row>..2</th><td>8</td><td>1134.55</td><td>1165.638</td><td>-559.2748</td><td>1118.55</td><td>24.87136</td><td>0</td><td>0</td></tr>\n",
       "\t<tr><th scope=row>..3</th><td>11</td><td>1083.368</td><td>1126.115</td><td>-530.6838</td><td>1061.368</td><td>57.18198</td><td>3</td><td>2.349987e-12</td></tr>\n",
       "\t<tr><th scope=row>..4</th><td>15</td><td>956.2346</td><td>1014.526</td><td>-463.1173</td><td>926.2346</td><td>135.133</td><td>4</td><td>3.107128e-28</td></tr>\n",
       "</tbody>\n",
       "</table>\n"
      ],
      "text/latex": [
       "\\begin{tabular}{r|llllllll}\n",
       "  & Df & AIC & BIC & logLik & deviance & Chisq & Chi Df & Pr(>Chisq)\\\\\n",
       "\\hline\n",
       "\tobject & 6 & 1189.125 & 1212.442 & -588.5626 & 1177.125 & NA & NA & NA\\\\\n",
       "\t..1 & 8 & 1159.421 & 1190.51 & -571.7104 & 1143.421 & 33.70422 & 2 & 4.79979e-08\\\\\n",
       "\t..2 & 8 & 1134.55 & 1165.638 & -559.2748 & 1118.55 & 24.87136 & 0 & 0\\\\\n",
       "\t..3 & 11 & 1083.368 & 1126.115 & -530.6838 & 1061.368 & 57.18198 & 3 & 2.349987e-12\\\\\n",
       "\t..4 & 15 & 956.2346 & 1014.526 & -463.1173 & 926.2346 & 135.133 & 4 & 3.107128e-28\\\\\n",
       "\\end{tabular}\n"
      ],
      "text/plain": [
       "Data: pmnROI\n",
       "Models:\n",
       "object: meanAmp ~ nativeness * expectedness + (1 | ppt)\n",
       "..1: meanAmp ~ nativeness * expectedness + (1 + expectedness | ppt)\n",
       "..2: meanAmp ~ nativeness * expectedness + (1 + nativeness | ppt)\n",
       "..3: meanAmp ~ nativeness * expectedness + (1 + nativeness + expectedness | \n",
       "..3:     ppt)\n",
       "..4: meanAmp ~ nativeness * expectedness + (1 + nativeness * expectedness | \n",
       "..4:     ppt)\n",
       "       Df     AIC    BIC  logLik deviance   Chisq Chi Df Pr(>Chisq)    \n",
       "object  6 1189.13 1212.4 -588.56  1177.13                              \n",
       "..1     8 1159.42 1190.5 -571.71  1143.42  33.704      2   4.80e-08 ***\n",
       "..2     8 1134.55 1165.6 -559.27  1118.55  24.871      0  < 2.2e-16 ***\n",
       "..3    11 1083.37 1126.1 -530.68  1061.37  57.182      3   2.35e-12 ***\n",
       "..4    15  956.23 1014.5 -463.12   926.23 135.133      4  < 2.2e-16 ***\n",
       "---\n",
       "Signif. codes:  0 ‘***’ 0.001 ‘**’ 0.01 ‘*’ 0.05 ‘.’ 0.1 ‘ ’ 1"
      ]
     },
     "execution_count": 36,
     "metadata": {},
     "output_type": "execute_result"
    }
   ],
   "source": [
    "anova(m1,m2,m3,m4,m5)"
   ]
  },
  {
   "cell_type": "code",
   "execution_count": 37,
   "metadata": {
    "collapsed": false
   },
   "outputs": [
    {
     "data": {
      "text/plain": [
       "Linear mixed model fit by maximum likelihood t-tests use Satterthwaite\n",
       "  approximations to degrees of freedom [lmerMod]\n",
       "Formula: \n",
       "meanAmp ~ nativeness * expectedness + (1 + nativeness * expectedness |  \n",
       "    ppt)\n",
       "   Data: pmnROI\n",
       "\n",
       "     AIC      BIC   logLik deviance df.resid \n",
       "   956.2   1014.5   -463.1    926.2      345 \n",
       "\n",
       "Scaled residuals: \n",
       "    Min      1Q  Median      3Q     Max \n",
       "-3.6055 -0.5113 -0.0107  0.5117  4.0230 \n",
       "\n",
       "Random effects:\n",
       " Groups   Name                                        Variance Std.Dev. Corr \n",
       " ppt      (Intercept)                                 1.5885   1.2604        \n",
       "          nativenessNon-native                        3.1421   1.7726   -0.71\n",
       "          expectednessUnexpected                      2.2557   1.5019   -0.80\n",
       "          nativenessNon-native:expectednessUnexpected 5.1590   2.2713    0.40\n",
       " Residual                                             0.4944   0.7031        \n",
       "            \n",
       "            \n",
       "            \n",
       "  0.77      \n",
       " -0.77 -0.76\n",
       "            \n",
       "Number of obs: 360, groups:  ppt, 15\n",
       "\n",
       "Fixed effects:\n",
       "                                            Estimate Std. Error      df t value\n",
       "(Intercept)                                   1.2313     0.3338 15.0000   3.689\n",
       "nativenessNon-native                         -0.7723     0.4695 15.0000  -1.645\n",
       "expectednessUnexpected                       -0.9729     0.4017 15.0000  -2.422\n",
       "nativenessNon-native:expectednessUnexpected   0.4394     0.6049 15.0000   0.726\n",
       "                                            Pr(>|t|)   \n",
       "(Intercept)                                  0.00219 **\n",
       "nativenessNon-native                         0.12080   \n",
       "expectednessUnexpected                       0.02857 * \n",
       "nativenessNon-native:expectednessUnexpected  0.47875   \n",
       "---\n",
       "Signif. codes:  0 ‘***’ 0.001 ‘**’ 0.01 ‘*’ 0.05 ‘.’ 0.1 ‘ ’ 1\n",
       "\n",
       "Correlation of Fixed Effects:\n",
       "            (Intr) ntvnN- expctU\n",
       "ntvnssNn-nt -0.709              \n",
       "expctdnssUn -0.792  0.757       \n",
       "ntvnssNn-:U  0.402 -0.762 -0.760"
      ]
     },
     "execution_count": 37,
     "metadata": {},
     "output_type": "execute_result"
    }
   ],
   "source": [
    "summary(m5)"
   ]
  },
  {
   "cell_type": "markdown",
   "metadata": {},
   "source": [
    "## Centre Variables\n",
    "### PMN"
   ]
  },
  {
   "cell_type": "code",
   "execution_count": 42,
   "metadata": {
    "collapsed": false
   },
   "outputs": [],
   "source": [
    "pmnROI['nat.Cent']=varRecode(pmnROI$nativeness, c('Native','Non-native'),c(.5,-.5))\n",
    "pmnROI['exp.Cent']=varRecode(pmnROI$expectedness, c('Expected','Unexpected'),c(.5,-.5))"
   ]
  },
  {
   "cell_type": "code",
   "execution_count": 54,
   "metadata": {
    "collapsed": false
   },
   "outputs": [],
   "source": [
    "pm1=lmer(meanAmp~nat.Cent*exp.Cent+(1|ppt),data=pmnROI,REML=F)\n",
    "pm2=lmer(meanAmp~nat.Cent*exp.Cent+(1+exp.Cent|ppt),data=pmnROI,REML=F)\n",
    "pm3=lmer(meanAmp~nat.Cent*exp.Cent+(1+nat.Cent|ppt),data=pmnROI,REML=F)\n",
    "pm4=lmer(meanAmp~nat.Cent*exp.Cent+(1+nat.Cent+exp.Cent|ppt),data=pmnROI,REML=F)"
   ]
  },
  {
   "cell_type": "code",
   "execution_count": 55,
   "metadata": {
    "collapsed": false
   },
   "outputs": [
    {
     "data": {
      "text/html": [
       "<table>\n",
       "<thead><tr><th></th><th scope=col>Df</th><th scope=col>AIC</th><th scope=col>BIC</th><th scope=col>logLik</th><th scope=col>deviance</th><th scope=col>Chisq</th><th scope=col>Chi Df</th><th scope=col>Pr(>Chisq)</th></tr></thead>\n",
       "<tbody>\n",
       "\t<tr><th scope=row>object</th><td>6</td><td>1189.125</td><td>1212.442</td><td>-588.5626</td><td>1177.125</td><td>NA</td><td>NA</td><td>NA</td></tr>\n",
       "\t<tr><th scope=row>..1</th><td>8</td><td>1159.421</td><td>1190.51</td><td>-571.7104</td><td>1143.421</td><td>33.70422</td><td>2</td><td>4.79979e-08</td></tr>\n",
       "\t<tr><th scope=row>..2</th><td>8</td><td>1134.55</td><td>1165.638</td><td>-559.2748</td><td>1118.55</td><td>24.87136</td><td>0</td><td>0</td></tr>\n",
       "\t<tr><th scope=row>..3</th><td>11</td><td>1083.368</td><td>1126.115</td><td>-530.6838</td><td>1061.368</td><td>57.18198</td><td>3</td><td>2.349987e-12</td></tr>\n",
       "</tbody>\n",
       "</table>\n"
      ],
      "text/latex": [
       "\\begin{tabular}{r|llllllll}\n",
       "  & Df & AIC & BIC & logLik & deviance & Chisq & Chi Df & Pr(>Chisq)\\\\\n",
       "\\hline\n",
       "\tobject & 6 & 1189.125 & 1212.442 & -588.5626 & 1177.125 & NA & NA & NA\\\\\n",
       "\t..1 & 8 & 1159.421 & 1190.51 & -571.7104 & 1143.421 & 33.70422 & 2 & 4.79979e-08\\\\\n",
       "\t..2 & 8 & 1134.55 & 1165.638 & -559.2748 & 1118.55 & 24.87136 & 0 & 0\\\\\n",
       "\t..3 & 11 & 1083.368 & 1126.115 & -530.6838 & 1061.368 & 57.18198 & 3 & 2.349987e-12\\\\\n",
       "\\end{tabular}\n"
      ],
      "text/plain": [
       "Data: pmnROI\n",
       "Models:\n",
       "object: meanAmp ~ nat.Cent * exp.Cent + (1 | ppt)\n",
       "..1: meanAmp ~ nat.Cent * exp.Cent + (1 + exp.Cent | ppt)\n",
       "..2: meanAmp ~ nat.Cent * exp.Cent + (1 + nat.Cent | ppt)\n",
       "..3: meanAmp ~ nat.Cent * exp.Cent + (1 + nat.Cent + exp.Cent | ppt)\n",
       "       Df    AIC    BIC  logLik deviance  Chisq Chi Df Pr(>Chisq)    \n",
       "object  6 1189.1 1212.4 -588.56   1177.1                             \n",
       "..1     8 1159.4 1190.5 -571.71   1143.4 33.704      2   4.80e-08 ***\n",
       "..2     8 1134.5 1165.6 -559.27   1118.5 24.871      0  < 2.2e-16 ***\n",
       "..3    11 1083.4 1126.1 -530.68   1061.4 57.182      3   2.35e-12 ***\n",
       "---\n",
       "Signif. codes:  0 ‘***’ 0.001 ‘**’ 0.01 ‘*’ 0.05 ‘.’ 0.1 ‘ ’ 1"
      ]
     },
     "execution_count": 55,
     "metadata": {},
     "output_type": "execute_result"
    }
   ],
   "source": [
    "anova(m1,m2,m3,m4)"
   ]
  },
  {
   "cell_type": "code",
   "execution_count": 57,
   "metadata": {
    "collapsed": false
   },
   "outputs": [
    {
     "data": {
      "text/plain": [
       "Linear mixed model fit by maximum likelihood t-tests use Satterthwaite\n",
       "  approximations to degrees of freedom [lmerMod]\n",
       "Formula: meanAmp ~ nat.Cent * exp.Cent + (1 | ppt)\n",
       "   Data: pmnROI\n",
       "\n",
       "     AIC      BIC   logLik deviance df.resid \n",
       "  1189.1   1212.4   -588.6   1177.1      354 \n",
       "\n",
       "Scaled residuals: \n",
       "    Min      1Q  Median      3Q     Max \n",
       "-3.6867 -0.5740 -0.0407  0.6115  3.4021 \n",
       "\n",
       "Random effects:\n",
       " Groups   Name        Variance Std.Dev.\n",
       " ppt      (Intercept) 0.3016   0.5492  \n",
       " Residual             1.4288   1.1953  \n",
       "Number of obs: 360, groups:  ppt, 15\n",
       "\n",
       "Fixed effects:\n",
       "                         Estimate Std. Error        df t value Pr(>|t|)   \n",
       "(Intercept)              -0.07449    0.18969  33.20000  -0.393  0.69706   \n",
       "nat.Cent0.5               0.33286    0.17819 345.00000   1.868  0.06261 . \n",
       "exp.Cent0.5               0.53350    0.17819 345.00000   2.994  0.00295 **\n",
       "nat.Cent0.5:exp.Cent0.5   0.43943    0.25199 345.00000   1.744  0.08208 . \n",
       "---\n",
       "Signif. codes:  0 ‘***’ 0.001 ‘**’ 0.01 ‘*’ 0.05 ‘.’ 0.1 ‘ ’ 1\n",
       "\n",
       "Correlation of Fixed Effects:\n",
       "            (Intr) nt.C0.5 e.C0.5\n",
       "nat.Cent0.5 -0.470               \n",
       "exp.Cent0.5 -0.470  0.500        \n",
       "n.C0.5:.C0.  0.332 -0.707  -0.707"
      ]
     },
     "execution_count": 57,
     "metadata": {},
     "output_type": "execute_result"
    },
    {
     "data": {
      "text/plain": [
       "Linear mixed model fit by maximum likelihood t-tests use Satterthwaite\n",
       "  approximations to degrees of freedom [lmerMod]\n",
       "Formula: meanAmp ~ nat.Cent * exp.Cent + (1 + exp.Cent | ppt)\n",
       "   Data: pmnROI\n",
       "\n",
       "     AIC      BIC   logLik deviance df.resid \n",
       "  1159.4   1190.5   -571.7   1143.4      352 \n",
       "\n",
       "Scaled residuals: \n",
       "    Min      1Q  Median      3Q     Max \n",
       "-3.1922 -0.5459 -0.0343  0.5305  3.6866 \n",
       "\n",
       "Random effects:\n",
       " Groups   Name        Variance Std.Dev. Corr \n",
       " ppt      (Intercept) 0.3014   0.549         \n",
       "          exp.Cent0.5 0.8209   0.906    -0.39\n",
       " Residual             1.2146   1.102         \n",
       "Number of obs: 360, groups:  ppt, 15\n",
       "\n",
       "Fixed effects:\n",
       "                         Estimate Std. Error        df t value Pr(>|t|)  \n",
       "(Intercept)              -0.07449    0.18328  23.40000  -0.406   0.6881  \n",
       "nat.Cent0.5               0.33286    0.16429 330.00000   2.026   0.0436 *\n",
       "exp.Cent0.5               0.53350    0.28586  21.50000   1.866   0.0757 .\n",
       "nat.Cent0.5:exp.Cent0.5   0.43943    0.23234 330.00000   1.891   0.0595 .\n",
       "---\n",
       "Signif. codes:  0 ‘***’ 0.001 ‘**’ 0.01 ‘*’ 0.05 ‘.’ 0.1 ‘ ’ 1\n",
       "\n",
       "Correlation of Fixed Effects:\n",
       "            (Intr) nt.C0.5 e.C0.5\n",
       "nat.Cent0.5 -0.448               \n",
       "exp.Cent0.5 -0.507  0.287        \n",
       "n.C0.5:.C0.  0.317 -0.707  -0.406"
      ]
     },
     "execution_count": 57,
     "metadata": {},
     "output_type": "execute_result"
    },
    {
     "data": {
      "text/plain": [
       "Linear mixed model fit by maximum likelihood t-tests use Satterthwaite\n",
       "  approximations to degrees of freedom [lmerMod]\n",
       "Formula: meanAmp ~ nat.Cent * exp.Cent + (1 + nat.Cent | ppt)\n",
       "   Data: pmnROI\n",
       "\n",
       "     AIC      BIC   logLik deviance df.resid \n",
       "  1134.5   1165.6   -559.3   1118.5      352 \n",
       "\n",
       "Scaled residuals: \n",
       "    Min      1Q  Median      3Q     Max \n",
       "-3.1772 -0.5907 -0.0685  0.6133  2.9051 \n",
       "\n",
       "Random effects:\n",
       " Groups   Name        Variance Std.Dev. Corr \n",
       " ppt      (Intercept) 0.6647   0.8153        \n",
       "          nat.Cent0.5 1.2496   1.1178   -0.73\n",
       " Residual             1.1028   1.0501        \n",
       "Number of obs: 360, groups:  ppt, 15\n",
       "\n",
       "Fixed effects:\n",
       "                         Estimate Std. Error        df t value Pr(>|t|)    \n",
       "(Intercept)              -0.07449    0.23784  18.90000  -0.313 0.757575    \n",
       "nat.Cent0.5               0.33286    0.32835  19.10000   1.014 0.323394    \n",
       "exp.Cent0.5               0.53350    0.15654 330.00000   3.408 0.000735 ***\n",
       "nat.Cent0.5:exp.Cent0.5   0.43943    0.22139 330.00000   1.985 0.047982 *  \n",
       "---\n",
       "Signif. codes:  0 ‘***’ 0.001 ‘**’ 0.01 ‘*’ 0.05 ‘.’ 0.1 ‘ ’ 1\n",
       "\n",
       "Correlation of Fixed Effects:\n",
       "            (Intr) nt.C0.5 e.C0.5\n",
       "nat.Cent0.5 -0.722               \n",
       "exp.Cent0.5 -0.329  0.238        \n",
       "n.C0.5:.C0.  0.233 -0.337  -0.707"
      ]
     },
     "execution_count": 57,
     "metadata": {},
     "output_type": "execute_result"
    },
    {
     "data": {
      "text/plain": [
       "Linear mixed model fit by maximum likelihood t-tests use Satterthwaite\n",
       "  approximations to degrees of freedom [lmerMod]\n",
       "Formula: meanAmp ~ nat.Cent * exp.Cent + (1 + nat.Cent + exp.Cent | ppt)\n",
       "   Data: pmnROI\n",
       "\n",
       "     AIC      BIC   logLik deviance df.resid \n",
       "  1083.4   1126.1   -530.7   1061.4      349 \n",
       "\n",
       "Scaled residuals: \n",
       "    Min      1Q  Median      3Q     Max \n",
       "-2.5534 -0.6483 -0.0306  0.5641  3.2836 \n",
       "\n",
       "Random effects:\n",
       " Groups   Name        Variance Std.Dev. Corr       \n",
       " ppt      (Intercept) 0.9435   0.9713              \n",
       "          nat.Cent0.5 1.2896   1.1356   -0.85      \n",
       "          exp.Cent0.5 0.8795   0.9378   -0.53  0.48\n",
       " Residual             0.8629   0.9289              \n",
       "Number of obs: 360, groups:  ppt, 15\n",
       "\n",
       "Fixed effects:\n",
       "                         Estimate Std. Error        df t value Pr(>|t|)  \n",
       "(Intercept)              -0.07449    0.26923  16.04000  -0.277   0.7856  \n",
       "nat.Cent0.5               0.33286    0.32426  18.15000   1.027   0.3181  \n",
       "exp.Cent0.5               0.53350    0.27894  19.49000   1.913   0.0706 .\n",
       "nat.Cent0.5:exp.Cent0.5   0.43943    0.19584 315.00000   2.244   0.0255 *\n",
       "---\n",
       "Signif. codes:  0 ‘***’ 0.001 ‘**’ 0.01 ‘*’ 0.05 ‘.’ 0.1 ‘ ’ 1\n",
       "\n",
       "Correlation of Fixed Effects:\n",
       "            (Intr) nt.C0.5 e.C0.5\n",
       "nat.Cent0.5 -0.824               \n",
       "exp.Cent0.5 -0.553  0.479        \n",
       "n.C0.5:.C0.  0.182 -0.302  -0.351"
      ]
     },
     "execution_count": 57,
     "metadata": {},
     "output_type": "execute_result"
    }
   ],
   "source": [
    "summary(pm1)\n",
    "summary(pm2)\n",
    "summary(pm3)\n",
    "summary(pm4)"
   ]
  },
  {
   "cell_type": "markdown",
   "metadata": {},
   "source": [
    "### N4"
   ]
  },
  {
   "cell_type": "code",
   "execution_count": 62,
   "metadata": {
    "collapsed": false
   },
   "outputs": [],
   "source": [
    "n4=filter(dat, comp==\"N4\")\n",
    "n4=filter(n4,cond!=\"Control\")\n",
    "n4ROI=filter(n4,chindex%in%c(12,48,11,47,19,32))\n",
    "n4ROI['nat.Cent']=varRecode(n4ROI$nativeness, c('Native','Non-native'),c(.5,-.5))\n",
    "n4ROI['exp.Cent']=varRecode(n4ROI$expectedness, c('Expected','Unexpected'),c(.5,-.5))"
   ]
  },
  {
   "cell_type": "code",
   "execution_count": 63,
   "metadata": {
    "collapsed": true
   },
   "outputs": [],
   "source": [
    "n4m1=lmer(meanAmp~nat.Cent*exp.Cent+(1|ppt),data=n4ROI,REML=F)\n",
    "n4m2=lmer(meanAmp~nat.Cent*exp.Cent+(1+exp.Cent|ppt),data=n4ROI,REML=F)\n",
    "n4m3=lmer(meanAmp~nat.Cent*exp.Cent+(1+nat.Cent|ppt),data=n4ROI,REML=F)\n",
    "n4m4=lmer(meanAmp~nat.Cent*exp.Cent+(1+nat.Cent+exp.Cent|ppt),data=n4ROI,REML=F)"
   ]
  },
  {
   "cell_type": "code",
   "execution_count": 64,
   "metadata": {
    "collapsed": false
   },
   "outputs": [
    {
     "data": {
      "text/html": [
       "<table>\n",
       "<thead><tr><th></th><th scope=col>Df</th><th scope=col>AIC</th><th scope=col>BIC</th><th scope=col>logLik</th><th scope=col>deviance</th><th scope=col>Chisq</th><th scope=col>Chi Df</th><th scope=col>Pr(>Chisq)</th></tr></thead>\n",
       "<tbody>\n",
       "\t<tr><th scope=row>object</th><td>6</td><td>1340.798</td><td>1364.114</td><td>-664.3989</td><td>1328.798</td><td>NA</td><td>NA</td><td>NA</td></tr>\n",
       "\t<tr><th scope=row>..1</th><td>8</td><td>1310.406</td><td>1341.495</td><td>-647.2031</td><td>1294.406</td><td>34.39161</td><td>2</td><td>3.403743e-08</td></tr>\n",
       "\t<tr><th scope=row>..2</th><td>8</td><td>1317.485</td><td>1348.574</td><td>-650.7425</td><td>1301.485</td><td>0</td><td>0</td><td>1</td></tr>\n",
       "\t<tr><th scope=row>..3</th><td>11</td><td>1278.14</td><td>1320.887</td><td>-628.0701</td><td>1256.14</td><td>45.34482</td><td>3</td><td>7.81592e-10</td></tr>\n",
       "</tbody>\n",
       "</table>\n"
      ],
      "text/latex": [
       "\\begin{tabular}{r|llllllll}\n",
       "  & Df & AIC & BIC & logLik & deviance & Chisq & Chi Df & Pr(>Chisq)\\\\\n",
       "\\hline\n",
       "\tobject & 6 & 1340.798 & 1364.114 & -664.3989 & 1328.798 & NA & NA & NA\\\\\n",
       "\t..1 & 8 & 1310.406 & 1341.495 & -647.2031 & 1294.406 & 34.39161 & 2 & 3.403743e-08\\\\\n",
       "\t..2 & 8 & 1317.485 & 1348.574 & -650.7425 & 1301.485 & 0 & 0 & 1\\\\\n",
       "\t..3 & 11 & 1278.14 & 1320.887 & -628.0701 & 1256.14 & 45.34482 & 3 & 7.81592e-10\\\\\n",
       "\\end{tabular}\n"
      ],
      "text/plain": [
       "Data: n4ROI\n",
       "Models:\n",
       "object: meanAmp ~ nat.Cent * exp.Cent + (1 | ppt)\n",
       "..1: meanAmp ~ nat.Cent * exp.Cent + (1 + exp.Cent | ppt)\n",
       "..2: meanAmp ~ nat.Cent * exp.Cent + (1 + nat.Cent | ppt)\n",
       "..3: meanAmp ~ nat.Cent * exp.Cent + (1 + nat.Cent + exp.Cent | ppt)\n",
       "       Df    AIC    BIC  logLik deviance  Chisq Chi Df Pr(>Chisq)    \n",
       "object  6 1340.8 1364.1 -664.40   1328.8                             \n",
       "..1     8 1310.4 1341.5 -647.20   1294.4 34.392      2  3.404e-08 ***\n",
       "..2     8 1317.5 1348.6 -650.74   1301.5  0.000      0          1    \n",
       "..3    11 1278.1 1320.9 -628.07   1256.1 45.345      3  7.816e-10 ***\n",
       "---\n",
       "Signif. codes:  0 ‘***’ 0.001 ‘**’ 0.01 ‘*’ 0.05 ‘.’ 0.1 ‘ ’ 1"
      ]
     },
     "execution_count": 64,
     "metadata": {},
     "output_type": "execute_result"
    }
   ],
   "source": [
    "anova(n4m1,n4m2,n4m3,n4m4)"
   ]
  },
  {
   "cell_type": "code",
   "execution_count": 66,
   "metadata": {
    "collapsed": false
   },
   "outputs": [
    {
     "data": {
      "text/plain": [
       "Linear mixed model fit by maximum likelihood t-tests use Satterthwaite\n",
       "  approximations to degrees of freedom [lmerMod]\n",
       "Formula: meanAmp ~ nat.Cent * exp.Cent + (1 | ppt)\n",
       "   Data: n4ROI\n",
       "\n",
       "     AIC      BIC   logLik deviance df.resid \n",
       "  1340.8   1364.1   -664.4   1328.8      354 \n",
       "\n",
       "Scaled residuals: \n",
       "    Min      1Q  Median      3Q     Max \n",
       "-2.7567 -0.6057  0.0064  0.6449  2.4680 \n",
       "\n",
       "Random effects:\n",
       " Groups   Name        Variance Std.Dev.\n",
       " ppt      (Intercept) 1.076    1.037   \n",
       " Residual             2.108    1.452   \n",
       "Number of obs: 360, groups:  ppt, 15\n",
       "\n",
       "Fixed effects:\n",
       "                        Estimate Std. Error       df t value Pr(>|t|)    \n",
       "(Intercept)              -1.6027     0.3085  22.5000  -5.195 3.07e-05 ***\n",
       "nat.Cent0.5               0.3314     0.2164 345.0000   1.531 0.126581    \n",
       "exp.Cent0.5               0.7315     0.2164 345.0000   3.380 0.000808 ***\n",
       "nat.Cent0.5:exp.Cent0.5  -0.2037     0.3061 345.0000  -0.665 0.506227    \n",
       "---\n",
       "Signif. codes:  0 ‘***’ 0.001 ‘**’ 0.01 ‘*’ 0.05 ‘.’ 0.1 ‘ ’ 1\n",
       "\n",
       "Correlation of Fixed Effects:\n",
       "            (Intr) nt.C0.5 e.C0.5\n",
       "nat.Cent0.5 -0.351               \n",
       "exp.Cent0.5 -0.351  0.500        \n",
       "n.C0.5:.C0.  0.248 -0.707  -0.707"
      ]
     },
     "execution_count": 66,
     "metadata": {},
     "output_type": "execute_result"
    }
   ],
   "source": [
    "summary(n4m1)"
   ]
  }
 ],
 "metadata": {
  "hide_input": false,
  "kernelspec": {
   "display_name": "R",
   "language": "R",
   "name": "ir"
  },
  "language_info": {
   "codemirror_mode": "r",
   "file_extension": ".r",
   "mimetype": "text/x-r-source",
   "name": "R",
   "pygments_lexer": "r",
   "version": "3.2.2"
  }
 },
 "nbformat": 4,
 "nbformat_minor": 0
}
